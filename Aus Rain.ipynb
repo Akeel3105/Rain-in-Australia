{
 "cells": [
  {
   "cell_type": "code",
   "execution_count": 1,
   "metadata": {},
   "outputs": [],
   "source": [
    "# A brief about dataset"
   ]
  },
  {
   "cell_type": "code",
   "execution_count": 2,
   "metadata": {},
   "outputs": [
    {
     "data": {
      "text/plain": [
       "'\\nPredict whether or not it will rain tomorrow by training a binary classification model on target RainTomorrow\\nThis dataset contains daily weather observations from numerous Australian weather stations.\\n\\nThe target variable RainTomorrow means: Did it rain the next day? Yes or No.\\n\\nNote: You should exclude the variable Risk-MM when training a binary classification model. Not excluding it will leak the \\nanswers to your model and reduce its predictability. Read more about it here.\\n\\nThis dataset contains about 10 years of daily weather observations from numerous Australian weather stations.\\n'"
      ]
     },
     "execution_count": 2,
     "metadata": {},
     "output_type": "execute_result"
    }
   ],
   "source": [
    "'''\n",
    "Predict whether or not it will rain tomorrow by training a binary classification model on target RainTomorrow\n",
    "This dataset contains daily weather observations from numerous Australian weather stations.\n",
    "\n",
    "The target variable RainTomorrow means: Did it rain the next day? Yes or No.\n",
    "\n",
    "Note: You should exclude the variable Risk-MM when training a binary classification model. Not excluding it will leak the \n",
    "answers to your model and reduce its predictability. Read more about it here.\n",
    "\n",
    "This dataset contains about 10 years of daily weather observations from numerous Australian weather stations.\n",
    "'''"
   ]
  },
  {
   "cell_type": "code",
   "execution_count": 3,
   "metadata": {},
   "outputs": [],
   "source": [
    "# importing all necessary libraries"
   ]
  },
  {
   "cell_type": "code",
   "execution_count": 4,
   "metadata": {},
   "outputs": [],
   "source": [
    "import numpy as np\n",
    "import pandas as pd\n",
    "import matplotlib.pyplot as plt\n",
    "%matplotlib inline\n",
    "import seaborn as sns\n",
    "from sklearn.preprocessing import LabelEncoder\n",
    "from sklearn import datasets\n",
    "from sklearn.metrics import r2_score\n",
    "from sklearn.preprocessing import StandardScaler\n",
    "from sklearn import linear_model\n",
    "from sklearn.metrics import mean_squared_error\n",
    "from sklearn.model_selection import train_test_split\n",
    "from sklearn import svm\n",
    "from sklearn.tree import DecisionTreeClassifier\n",
    "from sklearn.ensemble import RandomForestClassifier\n",
    "from sklearn.linear_model import LogisticRegression\n",
    "from sklearn.metrics import roc_curve, auc ,accuracy_score,cohen_kappa_score,confusion_matrix,classification_report,recall_score,precision_score\n",
    "from pprint import pprint\n",
    "from sklearn.ensemble import RandomForestRegressor\n",
    "from sklearn.tree import DecisionTreeRegressor\n",
    "from sklearn.decomposition import PCA\n",
    "import sklearn.feature_selection\n",
    "from sklearn.neighbors import KNeighborsClassifier\n",
    "from sklearn.metrics import confusion_matrix\n",
    "from sklearn.cluster import KMeans\n",
    "from sklearn import preprocessing\n",
    "from sklearn.metrics import silhouette_score\n",
    "from sklearn.linear_model import LinearRegression\n",
    "from sklearn.metrics import mean_absolute_error\n",
    "from pandas.plotting import scatter_matrix\n",
    "from sklearn.discriminant_analysis import LinearDiscriminantAnalysis\n",
    "from sklearn.naive_bayes import GaussianNB\n",
    "from sklearn.model_selection import StratifiedKFold\n",
    "from sklearn.metrics import classification_report\n",
    "from sklearn.svm import SVC\n",
    "from sklearn.model_selection import cross_val_score\n",
    "from matplotlib import pyplot\n",
    "from sklearn.svm import SVR\n",
    "from sklearn.ensemble import BaggingClassifier\n",
    "from sklearn.ensemble import ExtraTreesClassifier\n",
    "from sklearn.ensemble import BaggingRegressor\n",
    "from sklearn.impute import SimpleImputer"
   ]
  },
  {
   "cell_type": "code",
   "execution_count": 5,
   "metadata": {},
   "outputs": [],
   "source": [
    "# Loding dataset"
   ]
  },
  {
   "cell_type": "code",
   "execution_count": 6,
   "metadata": {},
   "outputs": [],
   "source": [
    "aus=pd.read_csv(\"C://Users//acer//Desktop//1sem//python//aus rain//rain.csv\")"
   ]
  },
  {
   "cell_type": "code",
   "execution_count": 7,
   "metadata": {},
   "outputs": [],
   "source": [
    "# looking at the first few rows"
   ]
  },
  {
   "cell_type": "code",
   "execution_count": 8,
   "metadata": {},
   "outputs": [
    {
     "data": {
      "text/html": [
       "<div>\n",
       "<style scoped>\n",
       "    .dataframe tbody tr th:only-of-type {\n",
       "        vertical-align: middle;\n",
       "    }\n",
       "\n",
       "    .dataframe tbody tr th {\n",
       "        vertical-align: top;\n",
       "    }\n",
       "\n",
       "    .dataframe thead th {\n",
       "        text-align: right;\n",
       "    }\n",
       "</style>\n",
       "<table border=\"1\" class=\"dataframe\">\n",
       "  <thead>\n",
       "    <tr style=\"text-align: right;\">\n",
       "      <th></th>\n",
       "      <th>Date</th>\n",
       "      <th>Location</th>\n",
       "      <th>MinTemp</th>\n",
       "      <th>MaxTemp</th>\n",
       "      <th>Rainfall</th>\n",
       "      <th>Evaporation</th>\n",
       "      <th>Sunshine</th>\n",
       "      <th>WindGustDir</th>\n",
       "      <th>WindGustSpeed</th>\n",
       "      <th>WindDir9am</th>\n",
       "      <th>...</th>\n",
       "      <th>Humidity3pm</th>\n",
       "      <th>Pressure9am</th>\n",
       "      <th>Pressure3pm</th>\n",
       "      <th>Cloud9am</th>\n",
       "      <th>Cloud3pm</th>\n",
       "      <th>Temp9am</th>\n",
       "      <th>Temp3pm</th>\n",
       "      <th>RainToday</th>\n",
       "      <th>RISK_MM</th>\n",
       "      <th>RainTomorrow</th>\n",
       "    </tr>\n",
       "  </thead>\n",
       "  <tbody>\n",
       "    <tr>\n",
       "      <td>0</td>\n",
       "      <td>2008-12-01</td>\n",
       "      <td>Albury</td>\n",
       "      <td>13.4</td>\n",
       "      <td>22.9</td>\n",
       "      <td>0.6</td>\n",
       "      <td>NaN</td>\n",
       "      <td>NaN</td>\n",
       "      <td>W</td>\n",
       "      <td>44.0</td>\n",
       "      <td>W</td>\n",
       "      <td>...</td>\n",
       "      <td>22.0</td>\n",
       "      <td>1007.7</td>\n",
       "      <td>1007.1</td>\n",
       "      <td>8.0</td>\n",
       "      <td>NaN</td>\n",
       "      <td>16.9</td>\n",
       "      <td>21.8</td>\n",
       "      <td>No</td>\n",
       "      <td>0.0</td>\n",
       "      <td>No</td>\n",
       "    </tr>\n",
       "    <tr>\n",
       "      <td>1</td>\n",
       "      <td>2008-12-02</td>\n",
       "      <td>Albury</td>\n",
       "      <td>7.4</td>\n",
       "      <td>25.1</td>\n",
       "      <td>0.0</td>\n",
       "      <td>NaN</td>\n",
       "      <td>NaN</td>\n",
       "      <td>WNW</td>\n",
       "      <td>44.0</td>\n",
       "      <td>NNW</td>\n",
       "      <td>...</td>\n",
       "      <td>25.0</td>\n",
       "      <td>1010.6</td>\n",
       "      <td>1007.8</td>\n",
       "      <td>NaN</td>\n",
       "      <td>NaN</td>\n",
       "      <td>17.2</td>\n",
       "      <td>24.3</td>\n",
       "      <td>No</td>\n",
       "      <td>0.0</td>\n",
       "      <td>No</td>\n",
       "    </tr>\n",
       "    <tr>\n",
       "      <td>2</td>\n",
       "      <td>2008-12-03</td>\n",
       "      <td>Albury</td>\n",
       "      <td>12.9</td>\n",
       "      <td>25.7</td>\n",
       "      <td>0.0</td>\n",
       "      <td>NaN</td>\n",
       "      <td>NaN</td>\n",
       "      <td>WSW</td>\n",
       "      <td>46.0</td>\n",
       "      <td>W</td>\n",
       "      <td>...</td>\n",
       "      <td>30.0</td>\n",
       "      <td>1007.6</td>\n",
       "      <td>1008.7</td>\n",
       "      <td>NaN</td>\n",
       "      <td>2.0</td>\n",
       "      <td>21.0</td>\n",
       "      <td>23.2</td>\n",
       "      <td>No</td>\n",
       "      <td>0.0</td>\n",
       "      <td>No</td>\n",
       "    </tr>\n",
       "  </tbody>\n",
       "</table>\n",
       "<p>3 rows × 24 columns</p>\n",
       "</div>"
      ],
      "text/plain": [
       "         Date Location  MinTemp  MaxTemp  Rainfall  Evaporation  Sunshine  \\\n",
       "0  2008-12-01   Albury     13.4     22.9       0.6          NaN       NaN   \n",
       "1  2008-12-02   Albury      7.4     25.1       0.0          NaN       NaN   \n",
       "2  2008-12-03   Albury     12.9     25.7       0.0          NaN       NaN   \n",
       "\n",
       "  WindGustDir  WindGustSpeed WindDir9am  ... Humidity3pm  Pressure9am  \\\n",
       "0           W           44.0          W  ...        22.0       1007.7   \n",
       "1         WNW           44.0        NNW  ...        25.0       1010.6   \n",
       "2         WSW           46.0          W  ...        30.0       1007.6   \n",
       "\n",
       "   Pressure3pm  Cloud9am  Cloud3pm  Temp9am  Temp3pm  RainToday  RISK_MM  \\\n",
       "0       1007.1       8.0       NaN     16.9     21.8         No      0.0   \n",
       "1       1007.8       NaN       NaN     17.2     24.3         No      0.0   \n",
       "2       1008.7       NaN       2.0     21.0     23.2         No      0.0   \n",
       "\n",
       "   RainTomorrow  \n",
       "0            No  \n",
       "1            No  \n",
       "2            No  \n",
       "\n",
       "[3 rows x 24 columns]"
      ]
     },
     "execution_count": 8,
     "metadata": {},
     "output_type": "execute_result"
    }
   ],
   "source": [
    "aus.head(3)"
   ]
  },
  {
   "cell_type": "code",
   "execution_count": 9,
   "metadata": {},
   "outputs": [],
   "source": [
    "# looking at the last few rows"
   ]
  },
  {
   "cell_type": "code",
   "execution_count": 10,
   "metadata": {},
   "outputs": [
    {
     "data": {
      "text/html": [
       "<div>\n",
       "<style scoped>\n",
       "    .dataframe tbody tr th:only-of-type {\n",
       "        vertical-align: middle;\n",
       "    }\n",
       "\n",
       "    .dataframe tbody tr th {\n",
       "        vertical-align: top;\n",
       "    }\n",
       "\n",
       "    .dataframe thead th {\n",
       "        text-align: right;\n",
       "    }\n",
       "</style>\n",
       "<table border=\"1\" class=\"dataframe\">\n",
       "  <thead>\n",
       "    <tr style=\"text-align: right;\">\n",
       "      <th></th>\n",
       "      <th>Date</th>\n",
       "      <th>Location</th>\n",
       "      <th>MinTemp</th>\n",
       "      <th>MaxTemp</th>\n",
       "      <th>Rainfall</th>\n",
       "      <th>Evaporation</th>\n",
       "      <th>Sunshine</th>\n",
       "      <th>WindGustDir</th>\n",
       "      <th>WindGustSpeed</th>\n",
       "      <th>WindDir9am</th>\n",
       "      <th>...</th>\n",
       "      <th>Humidity3pm</th>\n",
       "      <th>Pressure9am</th>\n",
       "      <th>Pressure3pm</th>\n",
       "      <th>Cloud9am</th>\n",
       "      <th>Cloud3pm</th>\n",
       "      <th>Temp9am</th>\n",
       "      <th>Temp3pm</th>\n",
       "      <th>RainToday</th>\n",
       "      <th>RISK_MM</th>\n",
       "      <th>RainTomorrow</th>\n",
       "    </tr>\n",
       "  </thead>\n",
       "  <tbody>\n",
       "    <tr>\n",
       "      <td>142190</td>\n",
       "      <td>2017-06-22</td>\n",
       "      <td>Uluru</td>\n",
       "      <td>3.6</td>\n",
       "      <td>25.3</td>\n",
       "      <td>0.0</td>\n",
       "      <td>NaN</td>\n",
       "      <td>NaN</td>\n",
       "      <td>NNW</td>\n",
       "      <td>22.0</td>\n",
       "      <td>SE</td>\n",
       "      <td>...</td>\n",
       "      <td>21.0</td>\n",
       "      <td>1023.5</td>\n",
       "      <td>1019.1</td>\n",
       "      <td>NaN</td>\n",
       "      <td>NaN</td>\n",
       "      <td>10.9</td>\n",
       "      <td>24.5</td>\n",
       "      <td>No</td>\n",
       "      <td>0.0</td>\n",
       "      <td>No</td>\n",
       "    </tr>\n",
       "    <tr>\n",
       "      <td>142191</td>\n",
       "      <td>2017-06-23</td>\n",
       "      <td>Uluru</td>\n",
       "      <td>5.4</td>\n",
       "      <td>26.9</td>\n",
       "      <td>0.0</td>\n",
       "      <td>NaN</td>\n",
       "      <td>NaN</td>\n",
       "      <td>N</td>\n",
       "      <td>37.0</td>\n",
       "      <td>SE</td>\n",
       "      <td>...</td>\n",
       "      <td>24.0</td>\n",
       "      <td>1021.0</td>\n",
       "      <td>1016.8</td>\n",
       "      <td>NaN</td>\n",
       "      <td>NaN</td>\n",
       "      <td>12.5</td>\n",
       "      <td>26.1</td>\n",
       "      <td>No</td>\n",
       "      <td>0.0</td>\n",
       "      <td>No</td>\n",
       "    </tr>\n",
       "    <tr>\n",
       "      <td>142192</td>\n",
       "      <td>2017-06-24</td>\n",
       "      <td>Uluru</td>\n",
       "      <td>7.8</td>\n",
       "      <td>27.0</td>\n",
       "      <td>0.0</td>\n",
       "      <td>NaN</td>\n",
       "      <td>NaN</td>\n",
       "      <td>SE</td>\n",
       "      <td>28.0</td>\n",
       "      <td>SSE</td>\n",
       "      <td>...</td>\n",
       "      <td>24.0</td>\n",
       "      <td>1019.4</td>\n",
       "      <td>1016.5</td>\n",
       "      <td>3.0</td>\n",
       "      <td>2.0</td>\n",
       "      <td>15.1</td>\n",
       "      <td>26.0</td>\n",
       "      <td>No</td>\n",
       "      <td>0.0</td>\n",
       "      <td>No</td>\n",
       "    </tr>\n",
       "  </tbody>\n",
       "</table>\n",
       "<p>3 rows × 24 columns</p>\n",
       "</div>"
      ],
      "text/plain": [
       "              Date Location  MinTemp  MaxTemp  Rainfall  Evaporation  \\\n",
       "142190  2017-06-22    Uluru      3.6     25.3       0.0          NaN   \n",
       "142191  2017-06-23    Uluru      5.4     26.9       0.0          NaN   \n",
       "142192  2017-06-24    Uluru      7.8     27.0       0.0          NaN   \n",
       "\n",
       "        Sunshine WindGustDir  WindGustSpeed WindDir9am  ... Humidity3pm  \\\n",
       "142190       NaN         NNW           22.0         SE  ...        21.0   \n",
       "142191       NaN           N           37.0         SE  ...        24.0   \n",
       "142192       NaN          SE           28.0        SSE  ...        24.0   \n",
       "\n",
       "        Pressure9am  Pressure3pm  Cloud9am  Cloud3pm  Temp9am  Temp3pm  \\\n",
       "142190       1023.5       1019.1       NaN       NaN     10.9     24.5   \n",
       "142191       1021.0       1016.8       NaN       NaN     12.5     26.1   \n",
       "142192       1019.4       1016.5       3.0       2.0     15.1     26.0   \n",
       "\n",
       "        RainToday  RISK_MM  RainTomorrow  \n",
       "142190         No      0.0            No  \n",
       "142191         No      0.0            No  \n",
       "142192         No      0.0            No  \n",
       "\n",
       "[3 rows x 24 columns]"
      ]
     },
     "execution_count": 10,
     "metadata": {},
     "output_type": "execute_result"
    }
   ],
   "source": [
    "aus.tail(3)"
   ]
  },
  {
   "cell_type": "code",
   "execution_count": 11,
   "metadata": {},
   "outputs": [],
   "source": [
    "# looking at the columns data type"
   ]
  },
  {
   "cell_type": "code",
   "execution_count": 12,
   "metadata": {},
   "outputs": [
    {
     "data": {
      "text/plain": [
       "Date              object\n",
       "Location          object\n",
       "MinTemp          float64\n",
       "MaxTemp          float64\n",
       "Rainfall         float64\n",
       "Evaporation      float64\n",
       "Sunshine         float64\n",
       "WindGustDir       object\n",
       "WindGustSpeed    float64\n",
       "WindDir9am        object\n",
       "WindDir3pm        object\n",
       "WindSpeed9am     float64\n",
       "WindSpeed3pm     float64\n",
       "Humidity9am      float64\n",
       "Humidity3pm      float64\n",
       "Pressure9am      float64\n",
       "Pressure3pm      float64\n",
       "Cloud9am         float64\n",
       "Cloud3pm         float64\n",
       "Temp9am          float64\n",
       "Temp3pm          float64\n",
       "RainToday         object\n",
       "RISK_MM          float64\n",
       "RainTomorrow      object\n",
       "dtype: object"
      ]
     },
     "execution_count": 12,
     "metadata": {},
     "output_type": "execute_result"
    }
   ],
   "source": [
    "aus.dtypes"
   ]
  },
  {
   "cell_type": "code",
   "execution_count": 13,
   "metadata": {},
   "outputs": [],
   "source": [
    "# Lets drop RISK-MM column as directed by dataset provider"
   ]
  },
  {
   "cell_type": "code",
   "execution_count": 14,
   "metadata": {},
   "outputs": [],
   "source": [
    "aus=aus.drop(\"RISK_MM\",axis=1)"
   ]
  },
  {
   "cell_type": "code",
   "execution_count": 15,
   "metadata": {},
   "outputs": [],
   "source": [
    "# data size"
   ]
  },
  {
   "cell_type": "code",
   "execution_count": 16,
   "metadata": {},
   "outputs": [
    {
     "data": {
      "text/plain": [
       "(142193, 23)"
      ]
     },
     "execution_count": 16,
     "metadata": {},
     "output_type": "execute_result"
    }
   ],
   "source": [
    "aus.shape"
   ]
  },
  {
   "cell_type": "code",
   "execution_count": 17,
   "metadata": {},
   "outputs": [],
   "source": [
    "# lets look at the null values"
   ]
  },
  {
   "cell_type": "code",
   "execution_count": 18,
   "metadata": {},
   "outputs": [
    {
     "data": {
      "text/plain": [
       "Date                 0\n",
       "Location             0\n",
       "MinTemp            637\n",
       "MaxTemp            322\n",
       "Rainfall          1406\n",
       "Evaporation      60843\n",
       "Sunshine         67816\n",
       "WindGustDir       9330\n",
       "WindGustSpeed     9270\n",
       "WindDir9am       10013\n",
       "WindDir3pm        3778\n",
       "WindSpeed9am      1348\n",
       "WindSpeed3pm      2630\n",
       "Humidity9am       1774\n",
       "Humidity3pm       3610\n",
       "Pressure9am      14014\n",
       "Pressure3pm      13981\n",
       "Cloud9am         53657\n",
       "Cloud3pm         57094\n",
       "Temp9am            904\n",
       "Temp3pm           2726\n",
       "RainToday         1406\n",
       "RainTomorrow         0\n",
       "dtype: int64"
      ]
     },
     "execution_count": 18,
     "metadata": {},
     "output_type": "execute_result"
    }
   ],
   "source": [
    "aus.isna().sum()"
   ]
  },
  {
   "cell_type": "code",
   "execution_count": 19,
   "metadata": {},
   "outputs": [],
   "source": [
    "# Lets look at the unique values of all columns"
   ]
  },
  {
   "cell_type": "code",
   "execution_count": 20,
   "metadata": {},
   "outputs": [
    {
     "name": "stdout",
     "output_type": "stream",
     "text": [
      "Date :  3436 distinct labels\n",
      "Location :  49 distinct labels\n",
      "MinTemp :  390 distinct labels\n",
      "MaxTemp :  506 distinct labels\n",
      "Rainfall :  680 distinct labels\n",
      "Evaporation :  357 distinct labels\n",
      "Sunshine :  146 distinct labels\n",
      "WindGustDir :  17 distinct labels\n",
      "WindGustSpeed :  68 distinct labels\n",
      "WindDir9am :  17 distinct labels\n",
      "WindDir3pm :  17 distinct labels\n",
      "WindSpeed9am :  44 distinct labels\n",
      "WindSpeed3pm :  45 distinct labels\n",
      "Humidity9am :  102 distinct labels\n",
      "Humidity3pm :  102 distinct labels\n",
      "Pressure9am :  547 distinct labels\n",
      "Pressure3pm :  550 distinct labels\n",
      "Cloud9am :  11 distinct labels\n",
      "Cloud3pm :  11 distinct labels\n",
      "Temp9am :  441 distinct labels\n",
      "Temp3pm :  501 distinct labels\n",
      "RainToday :  3 distinct labels\n",
      "RainTomorrow :  2 distinct labels\n"
     ]
    }
   ],
   "source": [
    "for i in aus.columns:\n",
    "    print(i, \": \",len(aus[i].unique()),\"distinct labels\")"
   ]
  },
  {
   "cell_type": "code",
   "execution_count": 21,
   "metadata": {},
   "outputs": [
    {
     "name": "stdout",
     "output_type": "stream",
     "text": [
      "Date : ['2008-12-01' '2008-12-02' '2008-12-03' ... '2008-01-29' '2008-01-30'\n",
      " '2008-01-31']\n",
      "Location : ['Albury' 'BadgerysCreek' 'Cobar' 'CoffsHarbour' 'Moree' 'Newcastle'\n",
      " 'NorahHead' 'NorfolkIsland' 'Penrith' 'Richmond' 'Sydney' 'SydneyAirport'\n",
      " 'WaggaWagga' 'Williamtown' 'Wollongong' 'Canberra' 'Tuggeranong'\n",
      " 'MountGinini' 'Ballarat' 'Bendigo' 'Sale' 'MelbourneAirport' 'Melbourne'\n",
      " 'Mildura' 'Nhil' 'Portland' 'Watsonia' 'Dartmoor' 'Brisbane' 'Cairns'\n",
      " 'GoldCoast' 'Townsville' 'Adelaide' 'MountGambier' 'Nuriootpa' 'Woomera'\n",
      " 'Albany' 'Witchcliffe' 'PearceRAAF' 'PerthAirport' 'Perth' 'SalmonGums'\n",
      " 'Walpole' 'Hobart' 'Launceston' 'AliceSprings' 'Darwin' 'Katherine'\n",
      " 'Uluru']\n",
      "MinTemp : [13.4  7.4 12.9  9.2 17.5 14.6 14.3  7.7  9.7 13.1 15.9 12.6  9.8 14.1\n",
      " 13.5 11.2 11.5 17.1 20.5 15.3 16.2 16.9 20.1 19.7 12.5 12.  11.3  9.6\n",
      " 10.5 12.3 13.7 16.1 14.  17.  17.3 17.2 17.4 19.8 14.9 13.9 18.6 19.3\n",
      " 24.4 18.8 20.8 15.7 18.5 20.4 21.8 22.3 22.  28.  21.5 21.7 23.5 28.3\n",
      " 18.4 12.4 13.3 18.  18.7 15.5  8.9 15.  15.4 16.  12.8 13.2 13.8  7.6\n",
      "  8.3 11.  20.9 16.4 10.   8.8  8.4  9.3 14.4 10.8 10.1  9.1 10.4 12.2\n",
      " 10.7  7.8  8.1  7.5  8.2 11.6 13.   9.9  3.5  6.6  7.   5.7  6.2  6.\n",
      " 10.6  8.6  4.5  5.4  2.1  1.8  7.2  4.6  4.2  5.2  4.1  3.2  4.3  3.7\n",
      "  3.6  6.9 10.3  3.   2.6  5.1  4.4  4.7  6.7  8.   2.2  1.7  2.8  9.\n",
      "  6.3 -2.  -1.3  2.   0.5  1.2  0.6  0.9  5.   3.9  3.4  0.  -1.5 -1.7\n",
      " -0.4  0.1  4.8  5.9  2.9 -0.6 -0.3 -1.   0.8 -0.1  1.3  3.3  6.5 -0.8\n",
      "  1.9  6.8  2.7  1.6  5.5  7.3  0.2  5.8  7.1  1.1  1.   6.1  nan  5.3\n",
      "  4.  11.7  8.5  3.8  6.4  9.5 14.5 15.6 17.8 16.7 18.1 12.1 11.4 18.3\n",
      " 11.9 21.  11.1 18.2 14.2 11.8 13.6 12.7 15.1 22.9 17.6 21.1 19.4 14.8\n",
      " 16.3 19.6 20.6 24.5 22.6 16.8  8.7 19.2 24.7 17.7 15.2 18.9 17.9 19.5\n",
      " 20.3 23.  22.5 20.2 16.5  5.6  3.1  1.4 10.2  9.4  0.4  4.9  1.5  2.3\n",
      "  0.7 -0.5  2.5 -1.2  0.3  2.4 14.7 10.9 16.6 21.3 23.2 21.6 22.1 24.\n",
      " 19.9 20.7 21.9 -0.7 -1.1 -1.4 -0.2 -1.6 15.8 19.1 20.  -2.5 -1.8  7.9\n",
      " 21.2 22.2 23.7 25.2 19.  -0.9 -2.1 -2.8 26.  -2.4 26.8 23.4 22.8 22.4\n",
      " 24.6 23.9 -3.  23.1 23.6 21.4 -1.9 25.1 24.2 27.1 23.3 24.9 25.4 23.8\n",
      " 27.  26.2 25.  24.8 27.6 24.1 27.2 29.1 28.9 25.3 27.4 28.8 27.3 26.1\n",
      " 26.5 22.7 25.7 24.3 29.3 27.7 26.3 25.8 29.4 25.6 26.7 26.6 28.1 27.8\n",
      " 28.5 25.5 26.9 26.4 27.5 28.7 29.7 25.9 -2.3 -3.3 -2.2 -3.2 29.  28.6\n",
      " -3.8 -4.8 -3.1 -2.7 -2.6 -2.9 -4.7 -3.6 -3.5 -3.4 -5.3 -3.7 -5.8 -5.\n",
      " -4.5 -4.3 -3.9 -4.2 -4.  -6.9 -6.5 -5.5 -5.2 -6.3 -4.4 -8.  -6.7 -4.9\n",
      " -5.4 -6.1 -4.6 -6.  -6.6 -5.1 -5.6 -6.8 -7.6 -7.  -4.1 -5.7 -6.2 -8.2\n",
      " -5.9 -8.5 -7.1 -6.4 -7.5 -7.2 -7.8 -7.3 30.5 29.8 31.9 28.4 28.2 27.9\n",
      " 30.7 33.9 29.2 29.9 31.4 31.8 29.5 31.2 29.6 30.3 31.  30.2]\n",
      "MaxTemp : [22.9 25.1 25.7 28.  32.3 29.7 25.  26.7 31.9 30.1 30.4 21.7 18.6 21.\n",
      " 27.7 20.9 22.5 25.6 29.3 33.  31.8 30.9 32.4 33.9 32.7 27.2 24.2 24.4\n",
      " 26.5 23.9 28.8 34.6 35.8 37.9 38.9 28.3 28.4 30.8 32.  34.7 37.7 43.\n",
      " 32.2 36.6 39.9 38.1 34.  35.2 30.6 34.3 38.4 38.2 40.7 41.5 42.9 42.7\n",
      " 43.1 38.3 36.9 41.2 42.2 44.8 40.2 31.2 27.3 21.6 29.  29.2 31.3 31.1\n",
      " 29.1 31.7 33.2 29.6 32.6 34.5 30.3 22.1 22.  24.  27.9 30.2 30.5 25.8\n",
      " 27.  19.7 21.9 25.3 33.5 33.6 30.  31.6 22.3 29.8 27.6 28.9 29.9 32.1\n",
      " 28.1 21.4 24.9 25.4 20.  23.4 22.7 16.2 15.8 12.9 11.5 14.5 12.2 16.5\n",
      " 17.  19.2 18.9 19.1 18.8 19.3 18.4 19.  20.5 19.5 17.7 18.5 15.1 16.3\n",
      " 16.6 16.4 15.6 19.8 21.1 20.3 18.1 15.7 16.8 17.1 14.3 13.4 17.4 16.1\n",
      " 10.5 11.6 12.   8.8  9.6  8.2 12.4 14.9 15.9 14.7 15.3 17.3 15.5 14.1\n",
      " 13.7 11.9 12.3 13.3 13.2 12.1 12.5 13.8 15.  13.5 13.1 11.  12.6 14.4\n",
      "  9.8 12.7 13.9 14.8 15.2 17.5 13.6 12.8 16.7 17.9 11.1 14.2 20.7 16.9\n",
      " 17.6 24.7 17.8 17.2 20.4 20.6 20.2 18.2 18.7 23.3 26.6 27.1 23.1 24.1\n",
      " 26.8 26.9 24.3 23.2 33.4 36.  35.1 32.8 35.4 36.3 39.7 23.6 32.9 26.2\n",
      " 26.4 31.5 27.5 30.7 27.4 22.6 38.6 40.3 33.7 35.9 36.8 33.8 36.4 39.8\n",
      " 42.4 25.2 37.3 41.8 34.4 36.5 35.6 26.1 28.5 31.  26.3  nan 25.5 22.4\n",
      " 28.6 31.4 28.7 24.8 19.9 23.5 25.9 23.  10.2 14.   8.4  8.3  9.4 10.9\n",
      " 10.3 10.8 14.6 15.4 10.  10.1 11.8 16.  10.4 13.  11.7 10.7 19.6 20.1\n",
      " 20.8 23.7 18.  21.8 22.2 24.5 29.4 21.2 32.5 28.2 21.5 22.8 11.2 19.4\n",
      " 18.3  9.2  9.3 21.3 23.8 26.  24.6 27.8 33.1 34.9 36.1 36.2 35.3 35.5\n",
      "  9.7 10.6 11.3 11.4 36.7 37.4 43.4 42.  40.4 39.2 38.8 37.  35.7 37.1\n",
      " 29.5 37.6 40.5 39.  43.6 42.6 34.2 33.3 40.6 41.7 41.6 41.1 40.1  8.7\n",
      " 39.6 34.1  9.9  8.6  9.1  6.8  9.5  9.  37.2 34.8 40.  35.  38.  39.5\n",
      " 40.9 38.5  7.5 39.3 42.5 43.7 37.8 38.7 41.9 39.4 41.4 37.5 45.8 41.\n",
      " 39.1 40.8 42.8 45.1 44.4 43.5 42.1 46.4 43.9 45.4 41.3 44.3 46.  43.8\n",
      " 43.2 45.2  8.5 42.3  7.8 45.7 46.6 47.3 44.5 44.1 44.  43.3 46.5 44.9\n",
      " 46.9 45.3 44.6 47.   8.9  8.1  7.6  6.3  8.   6.6 45.5  4.1  7.7  7.1\n",
      "  7.9  7.   7.3  2.6  7.4  6.2  7.2  6.   4.9 -1.7  0.   2.4  5.3  2.3\n",
      "  5.7  5.2  5.5  4.7  6.5  2.5  2.7  3.4  2.9  5.   3.2  0.1 -0.1 -2.2\n",
      " -0.6  0.6  2.2  4.   3.5  3.   4.2  3.3  3.9  0.4  5.9 -0.7 -1.8 -0.2\n",
      " -1.3  1.8  3.1  1.6  0.3  1.2 -0.5  1.   0.5  0.2  1.9  2.   5.1  2.8\n",
      "  6.7  0.9  3.8  4.3 -2.4 -0.3  4.6  6.9 -2.5  2.1  1.4  5.6  3.6  4.4\n",
      " -2.7 -1.   5.8 -1.4 -0.8 -2.   4.5  1.7 -0.9 -2.1 -1.5 -3.1  1.1 -1.2\n",
      "  4.8  6.1  6.4  3.7 -1.1  1.5  5.4  1.3  0.8 -2.3 -3.7 -2.9 -0.4 -1.9\n",
      " -3.8  0.7 -4.1 -3.2 -3.  -4.8 44.2 46.8 46.7 45.  46.3 44.7 45.6 46.2\n",
      " 48.1 46.1]\n",
      "Rainfall : [6.000e-01 0.000e+00 1.000e+00 2.000e-01 1.400e+00 2.200e+00 1.560e+01\n",
      " 3.600e+00       nan 1.680e+01 1.060e+01 1.200e+00 8.000e-01 6.400e+00\n",
      " 4.000e-01 3.000e+00 5.800e+00 1.160e+01 1.800e+00 8.600e+00 1.260e+01\n",
      " 8.400e+00 6.200e+00 2.000e+01 2.100e+01 3.200e+00 4.800e+00 4.200e+00\n",
      " 8.000e+00 1.440e+01 4.600e+00 2.000e+00 5.600e+00 1.600e+00 6.000e+00\n",
      " 4.400e+00 5.400e+00 5.000e+00 7.800e+00 6.800e+00 9.800e+00 3.800e+00\n",
      " 2.400e+00 5.200e+00 6.600e+00 1.340e+01 1.020e+01 2.880e+01 7.000e+00\n",
      " 2.580e+01 9.400e+00 1.240e+01 5.220e+01 2.060e+01 6.600e+01 1.100e+01\n",
      " 1.700e+01 1.040e+01 2.800e+01 2.140e+01 1.860e+01 7.200e+00 8.200e+00\n",
      " 1.080e+01 1.540e+01 9.600e+00 4.000e+00 2.180e+01 2.080e+01 2.480e+01\n",
      " 1.000e+01 1.140e+01 1.900e+01 2.220e+01 3.280e+01 3.400e+00 5.080e+01\n",
      " 5.260e+01 1.920e+01 1.880e+01 1.480e+01 1.200e+01 1.840e+01 2.560e+01\n",
      " 3.500e+01 1.420e+01 1.380e+01 2.600e+00 9.920e+01 5.100e+01 3.980e+01\n",
      " 2.820e+01 1.220e+01 1.280e+01 1.180e+01 1.980e+01 1.740e+01 8.800e+00\n",
      " 1.620e+01 1.460e+01 2.800e+00 3.080e+01 2.840e+01 3.480e+01 4.400e+01\n",
      " 1.400e+01 1.660e+01 9.000e+00 2.680e+01 3.840e+01 1.042e+02 3.660e+01\n",
      " 3.420e+01 2.940e+01 2.720e+01 1.120e+01 1.320e+01 3.340e+01 7.600e+00\n",
      " 2.460e+01 7.400e+00 1.600e+01 1.940e+01 5.340e+01 1.500e+01 3.360e+01\n",
      " 1.720e+01 3.740e+01 1.300e+01 3.100e+01 9.200e+00 6.620e+01 3.640e+01\n",
      " 4.100e+01 2.440e+01 2.700e+01 4.680e+01 1.580e+01 3.580e+01 2.240e+01\n",
      " 1.640e+01 1.520e+01 2.300e+01 2.280e+01 2.860e+01 4.600e+01 2.420e+01\n",
      " 2.200e+01 1.800e+01 3.120e+01 2.120e+01 3.600e+01 2.340e+01 3.200e+01\n",
      " 4.640e+01 1.360e+01 4.200e+01 3.380e+01 2.540e+01 2.040e+01 2.260e+01\n",
      " 4.320e+01 6.140e+01 4.820e+01 4.860e+01 1.820e+01 6.780e+01 3.920e+01\n",
      " 3.180e+01 8.240e+01 3.540e+01 1.160e+02 3.060e+01 1.780e+01 3.820e+01\n",
      " 3.020e+01 2.400e+01 4.700e+01 4.240e+01 3.300e+01 4.000e+01 4.420e+01\n",
      " 3.460e+01 3.040e+01 3.880e+01 8.360e+01 5.020e+01 2.620e+01 3.800e+01\n",
      " 3.160e+01 2.780e+01 2.980e+01 1.760e+01 1.002e+02 1.092e+02 2.360e+01\n",
      " 3.260e+01 2.160e+01 5.400e+01 3.960e+01 2.600e+01 3.400e+01 4.940e+01\n",
      " 3.700e+01 2.920e+01 6.800e+01 3.320e+01 2.740e+01 3.900e+01 3.860e+01\n",
      " 4.300e+01 4.500e+00 2.910e+01 2.900e+00 1.300e+00 3.000e+01 6.360e+01\n",
      " 1.890e+02 5.860e+01 5.900e+01 2.020e+01 4.280e+01 7.600e+01 1.960e+01\n",
      " 5.580e+01 7.000e+01 7.120e+01 1.418e+02 9.600e+01 3.710e+02 5.800e+01\n",
      " 6.700e+01 8.060e+01 5.660e+01 4.520e+01 5.940e+01 4.260e+01 3.440e+01\n",
      " 9.000e+01 1.280e+02 6.120e+01 2.380e+01 2.760e+01 7.380e+01 7.220e+01\n",
      " 1.054e+02 4.040e+01 1.020e+02 4.440e+01 4.800e+01 6.380e+01 3.680e+01\n",
      " 5.500e+00 2.520e+01 1.034e+02 1.276e+02 6.320e+01 5.240e+01 2.500e+01\n",
      " 5.500e+01 5.680e+01 7.080e+01 6.240e+01 1.120e+02 1.532e+02 4.580e+01\n",
      " 9.700e+01 5.180e+01 8.640e+01 5.000e-01 1.598e+02 2.085e+02 1.722e+02\n",
      " 9.000e-01 2.500e+00 3.000e-01 1.700e+00 3.300e+00 5.120e+01 1.064e+02\n",
      " 1.478e+02 4.560e+01 5.960e+01 2.900e+01 1.170e+01 7.500e+01 7.640e+01\n",
      " 6.400e+01 5.320e+01 1.004e+02 1.000e-01 6.580e+01 8.500e+00 3.240e+01\n",
      " 1.578e+02 4.100e+00 1.138e+02 7.000e-01 3.100e+00 1.500e+00 3.220e+01\n",
      " 3.270e+01 1.010e+01 1.110e+01 9.610e+01 4.980e+01 2.196e+02 1.094e+02\n",
      " 3.500e+00 2.640e+01 2.960e+01 3.620e+01 3.760e+01 4.380e+01 4.150e+01\n",
      " 5.060e+01 1.428e+02 1.062e+02 1.048e+02 2.700e+00 3.110e+01 1.390e+01\n",
      " 7.100e+01 9.060e+01 6.480e+01 4.760e+01 5.140e+01 2.660e+01 4.880e+01\n",
      " 3.720e+01 3.940e+01 1.130e+02 7.440e+01 9.280e+01 4.020e+01 7.680e+01\n",
      " 5.460e+01 4.480e+01 4.460e+01 5.000e+01 2.270e+01 2.090e+01 5.980e+01\n",
      " 4.540e+01 1.472e+02 3.520e+01 7.140e+01 3.140e+01 2.370e+01 4.220e+01\n",
      " 7.560e+01 4.180e+01 4.360e+01 4.900e+00 3.560e+01 2.650e+01 4.900e+01\n",
      " 3.390e+01 3.070e+01 5.300e+00 1.070e+01 6.410e+01 5.040e+01 4.550e+01\n",
      " 6.900e+00 6.880e+01 7.760e+01 8.980e+01 6.980e+01 3.250e+01 6.260e+01\n",
      " 1.325e+02 1.570e+01 2.250e+01 2.400e+02 4.120e+01 6.300e+00 5.820e+01\n",
      " 3.790e+01 2.950e+01 5.200e+01 2.150e+01 2.163e+02 1.250e+01 2.300e+00\n",
      " 5.160e+01 2.070e+01 6.340e+01 7.420e+01 2.320e+01 4.340e+01 5.600e+01\n",
      " 4.780e+01 4.840e+01 6.920e+01 5.560e+01 6.180e+01 7.300e+01 8.340e+01\n",
      " 3.780e+01 1.264e+02 4.720e+01 5.920e+01 1.202e+02 5.620e+01 8.900e+01\n",
      " 7.620e+01 8.280e+01 6.960e+01 7.200e+01 4.080e+01 1.074e+02 7.160e+01\n",
      " 2.990e+01 1.422e+02 7.980e+01 8.480e+01 1.056e+02 5.760e+01 4.500e+01\n",
      " 6.220e+01 1.110e+02 4.060e+01 1.226e+02 5.480e+01 6.100e+01 6.160e+01\n",
      " 1.568e+02 3.990e+01 2.100e+00 1.900e+00 1.100e+00 4.700e+00 5.700e+00\n",
      " 9.220e+01 1.154e+02 1.018e+02 4.960e+01 8.560e+01 8.140e+01 8.160e+01\n",
      " 6.760e+01 5.840e+01 4.160e+01 5.640e+01 1.118e+02 4.740e+01 1.134e+02\n",
      " 7.400e+01 7.060e+01 7.840e+01 6.860e+01 7.740e+01 7.320e+01 9.940e+01\n",
      " 6.520e+01 8.820e+01 5.740e+01 9.520e+01 5.700e+01 1.194e+02 1.058e+02\n",
      " 5.440e+01 4.140e+01 9.440e+01 6.440e+01 9.380e+01 6.840e+01 5.280e+01\n",
      " 8.500e+01 8.320e+01 1.060e+02 6.020e+01 9.100e+01 5.360e+01 1.046e+02\n",
      " 8.040e+01 1.068e+02 8.860e+01 7.280e+01 6.280e+01 4.660e+01 9.560e+01\n",
      " 5.300e+01 5.420e+01 1.108e+02 5.780e+01 1.230e+01 2.290e+01 1.330e+01\n",
      " 1.348e+02 8.440e+01 4.620e+01 6.420e+01 8.680e+01 1.576e+02 1.668e+02\n",
      " 1.560e+02 1.144e+02 8.180e+01 2.250e+02 8.700e+00 9.140e+01 1.810e+01\n",
      " 4.920e+01 6.080e+01 9.720e+01 8.260e+01 7.860e+01 5.380e+01 7.260e+01\n",
      " 1.390e+02 5.880e+01 6.500e+01 7.900e+01 7.580e+01 5.520e+01 1.920e+02\n",
      " 8.080e+01 1.180e+02 9.640e+01 1.642e+02 6.940e+01 7.520e+01 5.540e+01\n",
      " 8.700e+01 9.300e+01 9.160e+01 8.420e+01 8.760e+01 7.800e+01 7.340e+01\n",
      " 1.022e+02 6.040e+01 8.940e+01 1.076e+02 8.380e+01 7.820e+01 8.800e+01\n",
      " 6.640e+01 8.220e+01 1.550e+02 6.000e+01 6.560e+01 6.300e+01 8.400e+01\n",
      " 8.740e+01 8.300e+01 7.360e+01 7.720e+01 7.940e+01 1.214e+02 6.060e+01\n",
      " 9.360e+01 1.684e+02 1.450e+02 9.400e+01 8.920e+01 6.820e+01 1.826e+02\n",
      " 1.106e+02 9.800e+01 2.784e+02 1.402e+02 6.200e+01 1.216e+02 7.180e+01\n",
      " 1.158e+02 7.920e+01 2.686e+02 1.830e+02 1.096e+02 1.282e+02 2.062e+02\n",
      " 1.366e+02 1.502e+02 1.616e+02 1.090e+02 1.152e+02 1.752e+02 2.472e+02\n",
      " 8.540e+01 1.052e+02 7.480e+01 1.150e+02 1.260e+02 8.460e+01 1.580e+02\n",
      " 7.780e+01 6.460e+01 1.182e+02 1.438e+02 1.186e+02 1.122e+02 1.782e+02\n",
      " 1.834e+02 1.082e+02 1.112e+02 1.284e+02 8.020e+01 1.290e+02 1.050e+02\n",
      " 1.776e+02 8.620e+01 2.368e+02 9.340e+01 7.960e+01 2.068e+02 8.120e+01\n",
      " 9.260e+01 1.652e+02 1.704e+02 9.320e+01 9.820e+01 1.486e+02 7.020e+01\n",
      " 1.442e+02 1.646e+02 1.746e+02 7.040e+01 8.780e+01 1.248e+02 1.208e+02\n",
      " 7.880e+01 7.660e+01 1.190e+01 9.500e+00 1.050e+01 7.100e+00 6.500e+00\n",
      " 6.100e+00 3.430e+01 3.900e+00 6.700e+00 1.270e+01 1.450e+01 2.930e+01\n",
      " 2.390e+01 8.900e+00 9.100e+00 1.310e+01 1.090e+01 1.850e+01 6.540e+01\n",
      " 4.730e+01 5.900e+00 1.970e+01 1.210e+01 1.150e+01 7.500e+00 7.900e+00\n",
      " 2.530e+01 1.750e+01 7.300e+00 9.900e+00 1.550e+01 1.590e+01 8.100e+01\n",
      " 9.580e+01 9.040e+01 1.412e+02 1.622e+02 1.364e+02 1.314e+02 1.326e+02\n",
      " 3.676e+02 1.846e+02 1.822e+02 1.452e+02 9.680e+01 7.460e+01 1.294e+02\n",
      " 1.228e+02 1.098e+02 1.456e+02 2.106e+02 1.176e+02 6.950e+01 1.670e+02\n",
      " 6.900e+01]\n",
      "Evaporation : [     nan 1.20e+01 1.48e+01 1.26e+01 1.08e+01 1.14e+01 1.12e+01 1.30e+01\n",
      " 9.80e+00 1.46e+01 1.10e+01 1.28e+01 1.38e+01 1.64e+01 1.74e+01 1.60e+01\n",
      " 1.36e+01 8.00e+00 8.20e+00 8.60e+00 1.42e+01 1.58e+01 1.62e+01 1.34e+01\n",
      " 1.44e+01 1.18e+01 1.56e+01 1.52e+01 1.16e+01 9.60e+00 6.60e+00 6.00e-01\n",
      " 6.00e+00 3.00e+00 2.00e+00 5.20e+00 9.00e+00 1.02e+01 1.00e+01 7.40e+00\n",
      " 8.40e+00 9.20e+00 9.40e+00 1.24e+01 1.04e+01 7.20e+00 6.80e+00 7.60e+00\n",
      " 4.40e+00 6.40e+00 7.80e+00 7.00e+00 8.80e+00 6.20e+00 5.80e+00 2.00e-01\n",
      " 2.40e+00 1.80e+00 2.20e+00 2.80e+00 5.00e+00 5.60e+00 4.80e+00 4.20e+00\n",
      " 4.00e+00 3.20e+00 4.60e+00 3.40e+00 3.60e+00 0.00e+00 1.40e+00 3.80e+00\n",
      " 8.00e-01 2.60e+00 1.60e+00 1.20e+00 1.00e+00 5.40e+00 1.06e+01 1.68e+01\n",
      " 1.70e+01 2.02e+01 1.40e+01 1.72e+01 1.22e+01 1.50e+01 1.82e+01 1.32e+01\n",
      " 4.10e+00 1.70e+00 4.00e-01 1.90e+00 6.48e+01 3.20e+01 2.62e+01 2.46e+01\n",
      " 2.33e+01 1.54e+01 3.26e+01 3.04e+01 3.44e+01 1.80e+01 4.94e+01 1.88e+01\n",
      " 1.90e+01 1.84e+01 8.10e+00 4.90e+00 2.52e+01 2.40e+01 2.24e+01 1.66e+01\n",
      " 4.88e+01 5.62e+01 3.70e+01 5.24e+01 1.76e+01 6.30e+00 2.00e+01 2.14e+01\n",
      " 2.50e+01 1.78e+01 2.56e+01 1.86e+01 2.16e+01 3.54e+01 2.30e+01 2.20e+01\n",
      " 3.08e+01 1.11e+01 1.98e+01 3.32e+01 8.62e+01 6.58e+01 5.64e+01 3.12e+01\n",
      " 2.18e+01 5.70e+00 2.70e+00 1.30e+00 2.50e+00 3.30e+00 9.90e+00 2.30e+00\n",
      " 7.00e-01 2.10e+00 1.10e+00 2.90e+00 1.50e+00 3.10e+00 6.10e+00 1.96e+01\n",
      " 9.70e+00 1.05e+01 5.90e+00 9.30e+00 2.04e+01 1.21e+01 3.06e+01 2.42e+01\n",
      " 3.00e-01 4.72e+01 1.92e+01 3.84e+01 3.46e+01 2.36e+01 4.42e+01 3.22e+01\n",
      " 3.14e+01 3.42e+01 2.06e+01 2.68e+01 2.26e+01 2.38e+01 3.86e+01 2.64e+01\n",
      " 4.68e+01 4.24e+01 4.66e+01 6.02e+01 3.76e+01 3.64e+01 4.84e+01 4.36e+01\n",
      " 3.50e+01 5.04e+01 3.58e+01 5.40e+01 4.12e+01 3.28e+01 3.56e+01 3.10e+01\n",
      " 3.24e+01 1.94e+01 6.08e+01 2.74e+01 4.34e+01 2.70e+01 3.68e+01 2.54e+01\n",
      " 5.72e+01 2.86e+01 3.36e+01 3.74e+01 2.34e+01 4.30e+01 3.62e+01 3.16e+01\n",
      " 3.92e+01 2.58e+01 6.54e+01 4.04e+01 2.60e+01 2.12e+01 7.10e+00 7.48e+01\n",
      " 3.72e+01 2.88e+01 5.30e+00 4.70e+00 8.70e+00 3.90e+00 3.50e+00 9.50e+00\n",
      " 9.00e-01 3.02e+01 1.47e+01 1.31e+01 7.50e+00 8.30e+00 5.10e+00 3.70e+00\n",
      " 5.50e+00 1.81e+01 4.30e+00 2.10e+01 3.38e+01 4.50e+00 2.05e+01 1.19e+01\n",
      " 6.90e+00 7.70e+00 9.10e+00 1.09e+01 1.97e+01 1.01e+01 6.70e+00 5.00e-01\n",
      " 1.39e+01 1.25e+01 1.00e-01 1.45e+01 1.91e+01 1.71e+01 7.30e+00 2.51e+01\n",
      " 2.22e+01 2.72e+01 1.93e+01 6.50e+00 2.76e+01 1.15e+01 2.28e+01 2.84e+01\n",
      " 2.08e+01 3.94e+01 2.78e+01 2.82e+01 2.66e+01 3.30e+01 2.98e+01 2.32e+01\n",
      " 3.34e+01 2.80e+01 3.80e+01 4.00e+01 2.92e+01 2.94e+01 3.88e+01 6.44e+01\n",
      " 3.00e+01 2.44e+01 2.48e+01 5.54e+01 5.92e+01 1.45e+02 4.70e+01 8.90e+00\n",
      " 1.35e+01 8.50e+00 1.13e+01 4.40e+01 7.90e+00 4.44e+01 2.21e+01 3.66e+01\n",
      " 3.60e+01 3.40e+01 1.49e+01 4.26e+01 1.43e+01 1.03e+01 1.17e+01 1.07e+01\n",
      " 8.12e+01 6.30e+01 7.00e+01 5.48e+01 5.98e+01 7.22e+01 6.40e+01 5.96e+01\n",
      " 5.90e+01 4.23e+01 1.27e+01 1.77e+01 2.25e+01 1.53e+01 3.52e+01 3.45e+01\n",
      " 2.31e+01 4.22e+01 8.24e+01 4.20e+01 4.32e+01 6.20e+01 7.73e+01 1.33e+01\n",
      " 5.52e+01 5.80e+01 5.76e+01 5.56e+01 4.62e+01 5.50e+01 5.08e+01 5.10e+01\n",
      " 6.88e+01 5.16e+01 5.85e+01 5.58e+01 5.36e+01 2.55e+01 5.60e+01 4.80e+01\n",
      " 7.04e+01 5.94e+01 5.66e+01 1.41e+01 1.23e+01 1.51e+01 1.65e+01 4.18e+01\n",
      " 4.08e+01 5.02e+01 4.16e+01 4.28e+01 3.96e+01]\n",
      "Sunshine : [ nan 12.3 13.  13.3 10.6 12.2  8.4  0.  12.6 13.2 12.7 12.1 10.3 13.1\n",
      " 12.9 11.3  6.9 10.9  3.7  5.9 10.5 12.4 13.4 13.6  7.4 10.   2.3  6.6\n",
      "  0.3 10.7 11.6 10.2  9.  12.   3.   7.9 11.5 11.2  4.8  5.8  6.  11.1\n",
      " 11.8 11.4 10.8  7.8 11.   5.5  4.7  4.2  4.4  6.2  9.8  9.9  4.3  8.\n",
      "  9.6 10.4  9.3  8.7  7.6  7.5 10.1  6.3  2.8  0.7  9.4  9.7  0.6  5.1\n",
      "  8.3  4.1  3.9  6.8  8.6  2.7  8.2  3.1  1.8  0.1  0.8  3.4  7.1  5.\n",
      "  5.7  6.1  7.   2.9  2.5  4.6  8.9  9.1  1.7  8.1  9.5  1.2  1.4  8.8\n",
      "  2.2  3.5  9.2  1.9 11.7 11.9  7.7  0.9 12.5  2.1 12.8 13.7  8.5  0.2\n",
      "  4.   2.4  5.2  0.5  6.4  4.5  1.1  2.   0.4  1.5  3.3  6.5  2.6  3.8\n",
      "  3.6  3.2  6.7  5.4  7.2  4.9  1.   1.6  5.3  7.3  5.6  1.3 13.8 13.5\n",
      " 14.  13.9 14.1 14.5 14.3 14.2]\n",
      "WindGustDir : ['W' 'WNW' 'WSW' 'NE' 'NNW' 'N' 'NNE' 'SW' 'ENE' 'SSE' 'S' 'NW' 'SE' 'ESE'\n",
      " nan 'E' 'SSW']\n",
      "WindGustSpeed : [ 44.  46.  24.  41.  56.  50.  35.  80.  28.  30.  31.  61.  22.  63.\n",
      "  43.  26.  33.  57.  48.  39.  37.  52.  98.  54.  83.  nan  59.  70.\n",
      "  69.  17.  20.  19.  15.  13.  11.  72.  85.  65.  78. 107.  74.  67.\n",
      "  94.  76.  81.  87.   9.   7.  89.  91.  93. 102. 100. 113. 117.  96.\n",
      " 111. 106. 135. 104. 120. 115. 126. 109. 122. 124. 130.   6.]\n",
      "WindDir9am : ['W' 'NNW' 'SE' 'ENE' 'SW' 'SSE' 'S' 'NE' nan 'SSW' 'N' 'WSW' 'ESE' 'E'\n",
      " 'NW' 'WNW' 'NNE']\n",
      "WindDir3pm : ['WNW' 'WSW' 'E' 'NW' 'W' 'SSE' 'ESE' 'ENE' 'NNW' 'SSW' 'SW' 'SE' 'N' 'S'\n",
      " 'NNE' nan 'NE']\n",
      "WindSpeed9am : [ 20.   4.  19.  11.   7.   6.  15.  17.  28.  24.  nan   9.   0.  13.\n",
      "   2.  26.  30.  22.  35.  37.  31.  33.  48.  39.  44.  41.  46.  43.\n",
      "  56.  83.  74.  52.  65.  50. 130.  54.  61.  57.  59.  87.  67.  63.\n",
      "  69.  72.]\n",
      "WindSpeed3pm : [24. 22. 26.  9. 20. 17. 28. 11.  6. 13. 19. 30. 31.  7. 15. 48.  4. 33.\n",
      "  0.  2. nan 37. 46. 39. 50. 35. 44. 41. 43. 56. 61. 54. 52. 83. 65. 78.\n",
      " 57. 63. 59. 74. 72. 69. 76. 87. 67.]\n"
     ]
    },
    {
     "name": "stdout",
     "output_type": "stream",
     "text": [
      "Humidity9am : [ 71.  44.  38.  45.  82.  55.  49.  48.  42.  58.  89.  76.  65.  50.\n",
      "  69.  80.  47.  56.  54.  41.  78.  46.  43.  33.  34.  36.  52.  51.\n",
      "  40.  35.  39.  60.  37.  27.  32.  53.  20.  66.  63.  57.  62.  87.\n",
      "  61.  59.  92.  72.  67.  75.  88.  68.  73.  74.  83.  77.  70.  81.\n",
      "  86.  97.  99.  91.  85.  93.  84.  94.  79.  98.  96.  95.  90.  64.\n",
      "  29.  21. 100.  24.  nan  25.  31.  18.  23.  26.  28.  30.  19.  22.\n",
      "  17.  15.   9.  12.  13.  16.   6.  10.  14.  11.   7.   8.   5.   3.\n",
      "   2.   4.   0.   1.]\n",
      "Humidity3pm : [ 22.  25.  30.  16.  33.  23.  19.   9.  27.  91.  93.  43.  28.  82.\n",
      "  65.  32.  26.  24.  17.  15.  70.  12.   8.  31.  20.  10.  21.  39.\n",
      "  13.  11.  69.  18.  14.  35.  90.  68.  74.  41.  34.  78.  49.  37.\n",
      "  42.  47.  52.  29.  86.  89.  62.  79.  48.  46.  38.  44.  51.  36.\n",
      "  45.  40.  53.  61.  59.  63.  54.  57.  50.  58.  75.  97.  80.  95.\n",
      "  56.  72.  60.  71.  73.  81.  76.  64.  87.  85.  67.  55.  77.  84.\n",
      "   7.  99.  92.  66.  83.  94.  96.  88.  nan 100.  98.   5.   6.   1.\n",
      "   4.   2.   3.   0.]\n",
      "Pressure9am : [1007.7 1010.6 1007.6 1017.6 1010.8 1009.2 1009.6 1013.4 1008.9 1007.\n",
      " 1011.8 1010.5  994.3 1001.2 1012.2 1005.8 1009.4 1019.2 1019.3 1013.6\n",
      " 1007.8 1011.  1012.9 1010.9 1006.8 1005.2 1004.8 1005.6 1006.1 1004.5\n",
      " 1014.4 1018.7 1015.1 1012.6 1011.9 1017.8 1009.9 1014.1 1015.7 1011.6\n",
      " 1008.4 1019.7 1015.8 1010.1 1005.3 1007.9 1005.4 1016.5 1017.7 1014.9\n",
      " 1014.6 1014.2 1012.5 1011.7 1008.8 1005.9 1008.  1008.2 1009.3 1012.8\n",
      " 1017.  1023.3 1022.5 1016.2 1017.2 1012.4 1015.6 1013.  1014.  1016.6\n",
      " 1007.5 1014.7 1014.5 1013.7 1015.2 1019.5 1021.3 1017.4 1012.7 1013.3\n",
      " 1016.3 1014.8 1019.1 1023.  1023.8 1022.4 1023.2 1022.6 1018.8 1019.8\n",
      " 1020.4 1021.8 1026.7 1027.1 1024.2 1021.5 1024.4 1024.1 1018.5 1022.8\n",
      " 1022.7 1023.6 1025.2 1026.  1004.  1013.8 1018.  1023.1 1023.4 1026.9\n",
      " 1028.7 1029.8 1031.4 1028.5 1026.2 1028.8 1025.1 1025.6 1022.3 1018.4\n",
      " 1015.3 1015.  1024.7 1022.2 1025.  1024.6 1021.4 1021.7 1030.3 1034.1\n",
      " 1031.9 1029.3 1023.5 1021.  1017.9 1011.1 1025.7 1018.3 1013.9 1029.7\n",
      " 1031.6 1030.8 1021.9 1020.7 1020.2 1015.5 1011.4 1006.5 1008.6 1019.9\n",
      " 1030.4 1032.  1020.5 1010.4 1006.6 1021.6 1009.5 1027.3 1026.8 1024.\n",
      " 1025.8 1027.9 1026.4 1018.6 1009.  1011.5 1021.1 1021.2 1018.2 1027.7\n",
      " 1012.  1004.1 1016.1 1016.9 1002.6 1018.9 1024.9 1005.  1020.   997.8\n",
      " 1009.8 1012.3 1020.6 1029.5 1001.9 1000.5 1008.5 1016.  1026.6 1022.9\n",
      " 1020.8 1019.6 1027.5 1025.4 1017.1 1029.1 1010.  1003.7 1010.7 1010.3\n",
      " 1022.  1015.9 1006.9 1019.4 1018.1 1013.5 1016.8 1017.5 1015.4 1006.7\n",
      " 1013.2 1016.4 1017.3 1020.3 1023.9 1016.7 1008.7 1036.3 1035.2 1030.\n",
      " 1025.5 1022.1 1026.5 1027.8 1020.9 1023.7 1005.7 1004.7 1031.8 1032.3\n",
      " 1027.4 1027.2 1034.5 1037.3 1036.9 1030.1 1024.3 1027.6 1030.5 1032.5\n",
      " 1030.9 1029.2 1032.7 1035.5 1032.1 1031.7 1035.9 1036.1 1024.5 1006.2\n",
      " 1003.1 1029.6 1028.9 1024.8 1026.1 1026.3 1028.2 1028.4 1025.3 1029.4\n",
      "  989.8 1004.6 1011.3 1014.3 1012.1 1009.1 1002.4  998.8 1002.3 1006.\n",
      " 1009.7 1004.4 1007.4 1002.5 1019.  1020.1 1001.4 1031.5 1033.  1002.9\n",
      " 1025.9 1028.  1027.  1002.  1028.3 1031.  1035.7 1037.4 1038.9 1033.6\n",
      " 1036.6 1031.3 1010.2 1039.9 1013.1  996.3 1032.4 1033.4 1011.2 1004.3\n",
      " 1007.2 1006.3  995.3 1000.9 1005.5 1030.2 1035.1 1033.8 1036.5 1034.4\n",
      " 1003.3 1031.1 1031.2 1029.  1028.6 1033.1 1033.2 1007.3 1000.8  999.9\n",
      " 1007.1 1028.1 1033.7 1030.7 1033.3 1008.1 1002.2 1003.  1006.4 1008.3\n",
      "  998.9 1000.7  998.4 1033.5 1004.9 1003.2 1034.  1035.6 1035.  1032.2\n",
      " 1032.6 1000.4 1029.9 1037.8 1034.3 1034.7 1035.3 1036.  1003.9 1032.8\n",
      " 1004.2 1002.8  996.  1003.4 1037.5 1038.2 1034.8 1000.1 1032.9 1033.9\n",
      " 1003.6  993.7  992.9 1000.3 1001.3  999.4 1005.1  996.6 1036.8 1030.6\n",
      "  997.6 1001.7 1001.     nan 1036.2 1035.4 1037.6 1038.  1003.5 1001.5\n",
      " 1038.6  997.4 1034.2 1003.8  997.3  999.3  996.8 1037.  1034.9 1039.2\n",
      "  998.5  998.6  991.7 1001.1 1002.1 1035.8 1002.7  998.3  999.7  999.\n",
      " 1037.1 1001.6  996.5  997.2  999.6 1038.3 1038.4 1000.6  999.2  980.5\n",
      " 1000.2  994.9  999.8 1001.8  994.6 1037.9 1038.7  998.   999.1  997.\n",
      " 1034.6 1038.8 1039.1  990.2  986.7  995.  1036.7  996.7  999.5 1039.\n",
      "  998.1 1038.1  997.7  991.5 1039.6  998.7 1000.  1037.7  994.5  994.8\n",
      "  994.   996.1  994.7  997.1 1037.2 1036.4  998.2  987.4  993.9  996.9\n",
      " 1039.3 1039.5  995.2 1040.1 1040.2 1040.6  996.4 1040.3  995.7  995.4\n",
      "  992.8  996.2  994.2 1039.4  995.9  995.8  997.9  990.5  993.3  989.4\n",
      "  992.   995.1  992.5  989.5  991.2  991.4  992.1  997.5  993.   992.7\n",
      "  989.3  991.6  993.8  993.4  995.5  989.7  993.6  988.9  992.4  991.8\n",
      "  993.5  994.1  991.3 1038.5  986.9  990.3  995.6  993.2  990.9  994.4\n",
      "  990.8  991.1  992.6  986.2  982.3  989.6  985.1  982.   989.2 1040.9\n",
      "  992.3 1041.  1040.4  989.   988.3  986.3  988.   984.6  992.2  987.2\n",
      "  982.9  988.5  989.1  988.8  987.   993.1 1040.   991.9  983.7  985.8\n",
      "  985.9  987.3  991.   987.1  990.4  986.6  988.1  988.2  989.9  982.2\n",
      "  984.4  983.9  985.  1040.5 1039.7  987.9  990.6]\n",
      "Pressure3pm : [1007.1   1007.8   1008.7   1012.8   1006.    1005.4   1008.2   1010.1\n",
      " 1003.6   1005.7   1004.2    993.    1001.8   1010.3   1010.4   1002.2\n",
      " 1009.7   1017.1   1014.8   1008.1   1007.6   1001.7   1003.4   1005.1\n",
      " 1003.2   1013.1   1009.2   1006.7   1002.7   1010.9   1013.7   1006.8\n",
      " 1012.1   1006.9   1012.7   1017.4   1016.2   1010.6   1004.8   1005.9\n",
      "  997.8   1003.9   1014.6   1014.1   1011.6   1011.8   1010.2   1010.5\n",
      " 1007.4   1004.7   1002.6   1005.    1003.8   1006.5   1008.5   1011.1\n",
      " 1017.3   1019.7   1016.4   1013.8   1013.5   1007.5   1004.5   1010.8\n",
      " 1012.4   1013.4   1015.    1012.6   1004.6   1009.    1012.    1014.7\n",
      " 1015.9   1018.    1018.9   1008.    1013.2   1013.9   1013.6   1014.4\n",
      " 1019.2   1017.2   1020.7   1020.6   1019.1   1019.5   1019.4   1018.4\n",
      " 1012.9   1019.3   1016.5   1019.6   1023.5   1023.4   1017.7   1020.3\n",
      " 1020.8   1018.7   1009.8   1016.8   1020.    1020.9   1021.6   1015.7\n",
      " 1002.4   1000.9   1003.3   1018.3   1021.5   1023.2   1024.    1025.9\n",
      " 1027.3   1028.1   1024.6   1023.6   1025.8   1021.8   1022.3   1022.2\n",
      " 1018.5   1011.    1021.2   1019.9   1020.5   1021.4   1022.1   1028.5\n",
      " 1029.9   1029.2   1026.2   1020.4   1017.5   1015.1   1006.3   1008.3\n",
      " 1023.    1013.    1009.3   1027.7   1028.6   1027.1   1018.6   1005.5\n",
      " 1006.6   1009.4   1001.    1005.2   1009.6   1014.9   1019.    1023.8\n",
      " 1015.6   1007.7   1005.8   1009.9   1014.5   1019.8   1006.2   1025.4\n",
      " 1022.7   1023.1   1025.3   1024.8   1022.9   1020.2   1016.7   1008.6\n",
      " 1010.    1015.3   1006.4   1027.2   1022.5   1014.3   1013.3    996.9\n",
      " 1015.2   1021.7   1012.3   1017.9   1011.4   1011.3   1018.2   1015.4\n",
      " 1012.2   1011.9    999.2   1002.9   1008.4   1008.8   1004.9   1025.7\n",
      " 1016.9    999.4    997.6   1024.7   1023.7   1017.6   1022.    1015.8\n",
      " 1017.8   1011.2   1002.3   1003.5   1016.    1016.3   1016.1   1014.2\n",
      " 1007.3   1017.    1012.5   1011.5   1009.1   1004.1   1007.    1003.7\n",
      " 1007.9   1011.7   1021.3   1030.2   1033.6   1031.4   1026.    1021.\n",
      " 1023.3   1018.8   1018.1   1021.1   1020.1   1024.4   1021.9   1014.\n",
      " 1024.1   1024.3   1015.5   1002.8   1030.7   1032.    1028.3   1026.7\n",
      " 1033.8   1035.2   1032.9   1029.8   1029.    1022.8   1025.1   1026.6\n",
      " 1008.9   1026.3   1028.9   1029.1   1034.1   1031.5   1000.1   1004.4\n",
      " 1025.2    999.    1022.6   1025.    1023.9    982.9   1007.2   1002.1\n",
      "  994.3   1004.3   1000.5   1010.7   1009.5   1006.1   1001.5   1016.6\n",
      " 1002.5   1000.3   1005.3   1030.5   1028.8   1024.9   1024.5   1027.8\n",
      " 1028.7   1032.6   1035.1   1034.2   1029.7   1033.3   1027.6   1030.4\n",
      " 1034.6   1036.     996.2   1030.9   1026.1        nan 1000.7    995.4\n",
      " 1002.     995.7   1001.9   1031.    1031.1   1031.9   1032.5   1025.5\n",
      " 1028.4   1033.2   1024.2   1030.3   1030.    1001.3   1000.8   1001.6\n",
      " 1026.9    997.2    998.5   1026.8   1027.9   1028.2   1029.3   1022.4\n",
      " 1027.4   1029.4    999.6   1001.4    999.1    994.8   1001.2    998.4\n",
      " 1025.6   1026.5   1003.     998.9    998.8   1026.4   1027.5   1030.1\n",
      " 1032.3   1032.8   1005.6    998.7   1000.2   1033.5   1032.2   1030.6\n",
      " 1031.7   1028.    1032.1   1031.2   1029.5   1004.    1036.1    999.5\n",
      "  993.1    998.1    997.5   1000.     995.9   1034.3   1033.7   1031.3\n",
      " 1032.4    998.    1000.6    998.2   1001.1    999.3   1003.1   1034.9\n",
      " 1036.2   1032.7   1031.8    995.1   1036.4   1035.    1034.8   1036.8\n",
      "  996.4   1031.6    997.7   1027.     997.9    996.7    999.8    999.7\n",
      "  995.3    994.5    996.5    998.3   1030.8    993.8    997.4    995.8\n",
      " 1029.6   1034.     993.7    999.9    997.1   1000.4   1034.7    991.6\n",
      " 1034.4   1033.4   1035.9    996.8    997.    1035.6    995.5   1034.5\n",
      " 1035.7    995.6    994.9    996.1    979.     996.     995.2   1033.\n",
      "  989.    1036.3   1035.5    993.4    994.     996.3    998.6   1026.66\n",
      " 1009.555 1016.777  991.4    991.     990.3    989.8   1036.7    994.2\n",
      "  989.3    995.    1037.    1035.4    993.9    993.6    984.2    994.7\n",
      "  997.3    994.4    992.8    990.7   1033.1    987.4   1036.9   1035.8\n",
      " 1037.8   1033.9    993.5    993.3    990.2    993.2   1037.3    985.5\n",
      " 1037.9    996.6    994.1    991.9    992.6    985.     994.6   1037.5\n",
      " 1037.7    990.9    988.7    992.5    989.9    987.3    992.     990.4\n",
      "  988.6    992.7    992.3    987.1    991.8    991.1    988.8    991.5\n",
      "  992.9    991.7    989.4    992.4    992.1   1035.3    988.2    990.8\n",
      "  990.6    988.3    987.7    982.6    986.5    991.3   1036.6   1037.1\n",
      "  985.6    992.2    987.8    986.    1036.5    985.2    986.4    986.6\n",
      "  988.9    984.9   1038.    1038.2    986.9    989.6    989.7    989.2\n",
      "  986.1    985.1    984.     985.3    981.2    988.4   1037.2   1037.6\n",
      "  987.6    980.2    986.2    987.    1038.5   1038.9    988.1    990.1\n",
      "  988.5    990.     984.5    987.2    985.4    981.4    984.4    989.1\n",
      "  991.2    982.2    988.     977.1    978.2    983.2    981.9    983.3\n",
      "  990.5   1039.6    986.8   1038.4    985.8    989.5  ]\n",
      "Cloud9am : [ 8. nan  7.  1.  0.  5.  4.  2.  6.  3.  9.]\n",
      "Cloud3pm : [nan  2.  8.  7.  1.  5.  4.  6.  3.  0.  9.]\n",
      "Temp9am : [16.9 17.2 21.  18.1 17.8 20.6 16.3 18.3 20.1 20.4 15.9 17.4 15.8 17.3\n",
      " 18.  15.5 19.1 24.5 23.8 20.9 21.5 23.2 26.6 24.6 21.6 12.5 19.7 14.9\n",
      " 17.1 20.7 22.4 23.1 25.2 17.9 20.2 22.8 24.2 24.3 25.6 27.6 16.  22.\n",
      " 26.8 27.3 26.1 23.3 21.2 23.4 25.8 28.2 29.  29.2 29.9 32.4 28.8 27.2\n",
      " 25.5 26.5 28.7 29.6 34.5 18.7 16.7 17.  19.2 21.4 22.1 19.3 15.  20.\n",
      " 22.2 23.  15.6 13.9 12.6 13.3 17.6 18.6 19.  19.9 12.7 12.2 12.1 14.7\n",
      " 18.8 15.4 16.2 16.5 14.  16.6 18.4 12.9 13.8 15.1 16.4 16.1 20.5  9.6\n",
      " 12.4 14.1 11.2  9.5  7.6 10.1  8.2  7.9  7.2 10.6 10.3 10.   8.3 11.\n",
      "  9.4 11.7  8.5  9.1  7.5 13.   7.   8.8  7.4 11.9 11.6 13.6  7.1 10.2\n",
      "  8.   9.2 11.3  4.7  6.8  4.9  2.2  1.9  5.9  6.5  5.4  6.6  5.6  6.9\n",
      "  8.4  9.8 13.5  7.8  2.3  2.4  3.3  3.8  4.8  8.1  9.   4.5  3.2  3.7\n",
      "  2.5  4.4  4.2  9.3  8.9 10.5  9.9  5.7  2.  14.8  6.7  6.   5.5 11.1\n",
      "  5.8 10.8 13.2  7.7  9.7  8.6  8.7 10.9 14.3 11.5 13.1 15.2 11.8 13.4\n",
      " 14.4 23.9 17.5 24.7 21.7 24.1 19.5 27.8 16.8 20.3 18.9 15.7 12.8 21.8\n",
      " 20.8 32.1 24.4 26.  28.1 21.3 26.4 29.1 29.4 25.1 27.7 18.5 25.  22.9\n",
      " 23.5 26.3 22.6 25.9 19.6 22.3 19.8 14.2 17.7 19.4 18.2 14.6 15.3 10.4\n",
      " 10.7  6.4  6.3  5.1  6.2  5.3  4.1  3.4  6.1  2.8  3.1  3.   5.   2.9\n",
      "  5.2  4.   4.6  4.3  7.3 11.4 13.7 24.  22.5 21.9 26.7 24.9 25.3 21.1\n",
      " 25.4 24.8 14.5  3.5  3.6  3.9  2.6 12.  22.7  0.3 27.5 29.5 23.6 30.7\n",
      " 29.7 27.  23.7 12.3  nan 28.6 26.9 31.8 28.  30.8 28.4 25.7 27.4 26.2\n",
      " 33.7 27.9 30.2 28.3  2.7 29.3 29.8  1.6 30.4 37.6 34.2 31.3 33.6 31.5\n",
      " 31.4 28.9 30.1 32.  32.6 35.6 31.6 31.2 30.  34.3 31.1 37.3 27.1 34.4\n",
      " 33.  33.9 32.9 34.1 28.5 35.7 31.  30.3 32.3 35.1 34.8 34.  37.7 30.9\n",
      " 32.2 33.4 33.2 32.7 30.6 31.7 35.2 30.5 33.5 36.8 34.9 33.1 36.3 32.5\n",
      " 31.9 32.8 35.5 36.4 37.5 35.9  0.8  0.9 36.5 37.2 33.3  0.6  1.   1.7\n",
      "  2.1  1.2  1.8  0.   1.3  1.5  0.5  0.4  0.2  1.4  0.1 -0.9  0.7 -0.7\n",
      " -0.2 -0.3 -1.1  1.1 -1.  -1.2 -1.3 -0.5 -0.6 -0.4 -0.8 -3.1 -0.1 -1.4\n",
      " -1.7 -2.3 -2.8 -3.4 -5.9 -2.5 -4.1 -1.6 -2.2 -2.4 -2.9 -2.1 -3.2 -2.\n",
      " -1.8 -4.2 -3.3 -4.3 -3.7 -3.6 -5.5 -4.  -1.9 -4.8 -2.7 -5.2 -5.3 -1.5\n",
      " -3.9 -3.  -3.8 -4.4 -2.6 -6.2 -3.5 -4.5 -5.6 -7.  -7.2 36.  35.4 34.6\n",
      " 33.8 36.9 35.3 36.1 38.3 37.4 34.7 38.6 35.8 37.9 35.  40.2 37.  39.4\n",
      " 39.  38.2 36.2 38.9 36.6 39.1 38. ]\n",
      "Temp3pm : [21.8 24.3 23.2 26.5 29.7 28.9 24.6 25.5 30.2 28.2 28.8 17.  15.8 19.8\n",
      " 26.2 18.1 21.5 21.  27.3 31.6 30.8 29.  31.2 33.  32.1 26.1 18.2 22.7\n",
      " 25.7 22.1 33.9 34.4 36.8 38.4 27.6 26.6 29.3 30.  33.2 35.7 41.5 27.1\n",
      " 25.8 30.5 37.7 36.1 33.1 36.5 36.2 39.2 40.1 41.2 42.  41.9 37.1 35.2\n",
      " 39.7 41.6 43.4 38.5 29.4 24.9 17.3 28.5 29.2 29.5 27.  30.7 32.7 26.8\n",
      " 29.8 31.3 33.4 28.6 33.6 28.1 21.9 21.4 22.  29.6 18.8 23.8 19.7 18.3\n",
      " 20.5 23.9 27.2 32.6 33.5 31.4 19.6 27.7 29.9 30.9 27.4 20.3 21.2 20.9\n",
      " 21.6 23.5 25.  24.4 23.1 18.9 19.4 22.9 23.6 21.3 22.3 22.6 15.1 14.5\n",
      " 11.6  9.4 14.  12.1 16.1 16.3 19.1 18.5 18.4 19.2 20.2 17.7 18.  14.6\n",
      " 15.3 15.9 14.7 18.7 21.7 20.8 19.5 17.4 15.6 16.7 16.8 13.4 13.  16.5\n",
      " 10.2 11.5 11.4  7.9  9.7  8.8 15.5 13.9 15.4 14.9 16.4 13.6 15.2 13.7\n",
      " 11.3 12.3 13.1 11.7 12.6 12.  12.4 14.3 13.2 10.1 12.5 12.8 14.2 11.2\n",
      " 13.5 17.6 12.9 10.8  9.6  7.3 12.7 13.3 16.6 11.1 14.4 16.2 17.5 10.7\n",
      " 16.  24.  17.1 20.7 17.2 20.6 14.8 10.  15.7 17.8 19.  14.1 10.9 19.3\n",
      " 25.3 25.4 24.8 23.4 28.4 30.3 31.1 32.8 33.8 34.9 34.6 31.7 35.4 39.\n",
      " 36.4 25.6 32.  25.2 24.7 28.7 30.6 26.  32.5 36.9 30.4 35.9 37.5 27.5\n",
      " 34.1 35.1 28.  31.8 35.3 38.6 40.9 41.1 19.9 36.  24.1 34.3 39.1 34.7\n",
      " 34.8 30.1 32.9 26.4 24.2 20.1 21.1 22.8 31.5 26.9 29.1 28.3 25.1 23.\n",
      " 22.4 27.9 18.6 16.9 13.8 15.   8.9 11.  11.8  8.2  9.1 10.4 12.2  8.7\n",
      " 11.9 22.5 24.5 36.7 37.3 38.8 26.7  8.6 20.4  9.  10.3 10.6  8.   8.1\n",
      " 10.5  9.8  9.5  9.9 17.9 22.2 23.3 23.7 26.3  nan 25.9 35.  34.2 34.5\n",
      " 32.4 27.8 20.   7.  35.8 39.3 42.4 40.7 38.2 40.6 35.6 34.  36.3 32.3\n",
      "  9.2  9.3  8.3 31.9 41.7 38.9 31.  37.2 40.8 40.2 38.3  8.4  8.5  6.7\n",
      " 32.2 37.   7.6  6.4  7.7 33.3 39.5 37.6 42.3 33.7 35.5  7.5  7.4 38.\n",
      " 39.8 37.8 39.6 40.3 36.6 42.2 37.9 43.7 38.7 41.  43.5 43.3 38.1 43.\n",
      " 41.4 40.  40.4 37.4 39.9 43.2 40.5 44.8 42.9 42.6 42.1 42.7 43.1 39.4\n",
      "  6.9 44.  45.2 45.8 41.3 42.8 46.7 45.3 44.1 42.5 43.8 46.2 45.9 44.7\n",
      " 44.9 41.8  6.8  6.   6.6 43.9  7.1  7.8  7.2  5.7  5.1  6.2  3.7  6.5\n",
      "  6.1  4.3  5.4  5.3  4.9  5.6  2.3  5.5  6.3  5.9  5.8  3.4  3.6 -1.9\n",
      " -1.3  1.4  4.4  4.5  2.6  0.8  4.8  1.8  2.4  2.7  4.   5.  -0.3 -2.9\n",
      " -5.1 -0.4  0.9  2.1  2.9  1.2 -0.6  1.9  5.2 -0.7 -1.  -1.8 -0.1 -1.6\n",
      " -0.2  1.6  1.3 -1.2  2.   2.8  0.7 -0.9  0.3 -1.1  1.1  1.   0.  -2.8\n",
      " -1.4  0.2  0.4 -3.1 -2.6  3.   0.6  4.6  3.2  4.2  3.5  3.8  4.1 -1.7\n",
      " -1.5  3.3  2.2 -2.  -2.2  2.5 -2.3  3.9  3.1 -3.7  4.7  1.7  0.1  1.5\n",
      " -3.9 -0.5 -2.7 -3.5 -2.1  0.5 -2.5 -3.2 -4.1 -3.4 -0.8 -3.  -4.4 -2.4\n",
      " -4.  -4.2 -5.4 -3.8 44.4 46.1 45.4 43.6 44.5 44.3 45. ]\n",
      "RainToday : ['No' 'Yes' nan]\n",
      "RainTomorrow : ['No' 'Yes']\n"
     ]
    }
   ],
   "source": [
    "for i in aus.columns:\n",
    "    print(i,\":\",aus[i].unique())"
   ]
  },
  {
   "cell_type": "code",
   "execution_count": 22,
   "metadata": {},
   "outputs": [],
   "source": [
    "# Feature engineering: Lets take one column at a time"
   ]
  },
  {
   "cell_type": "code",
   "execution_count": 23,
   "metadata": {},
   "outputs": [],
   "source": [
    "# Lets take date column"
   ]
  },
  {
   "cell_type": "code",
   "execution_count": 24,
   "metadata": {},
   "outputs": [
    {
     "data": {
      "text/plain": [
       "dtype('O')"
      ]
     },
     "execution_count": 24,
     "metadata": {},
     "output_type": "execute_result"
    }
   ],
   "source": [
    "aus.Date.dtype"
   ]
  },
  {
   "cell_type": "code",
   "execution_count": 25,
   "metadata": {},
   "outputs": [],
   "source": [
    "# as it is object data type we need to convert it to datatime dataframe"
   ]
  },
  {
   "cell_type": "code",
   "execution_count": 26,
   "metadata": {},
   "outputs": [],
   "source": [
    "aus[\"Date\"]=pd.to_datetime(aus.Date)"
   ]
  },
  {
   "cell_type": "code",
   "execution_count": 27,
   "metadata": {},
   "outputs": [
    {
     "data": {
      "text/plain": [
       "dtype('<M8[ns]')"
      ]
     },
     "execution_count": 27,
     "metadata": {},
     "output_type": "execute_result"
    }
   ],
   "source": [
    "aus.Date.dtype"
   ]
  },
  {
   "cell_type": "code",
   "execution_count": 28,
   "metadata": {},
   "outputs": [],
   "source": [
    "# lets extract all useful info "
   ]
  },
  {
   "cell_type": "code",
   "execution_count": 29,
   "metadata": {},
   "outputs": [],
   "source": [
    "aus[\"date_day\"]=aus.Date.dt.day"
   ]
  },
  {
   "cell_type": "code",
   "execution_count": 30,
   "metadata": {},
   "outputs": [],
   "source": [
    "aus[\"date_month\"]=aus.Date.dt.month"
   ]
  },
  {
   "cell_type": "code",
   "execution_count": 31,
   "metadata": {},
   "outputs": [],
   "source": [
    "aus[\"date_year\"]=aus.Date.dt.year"
   ]
  },
  {
   "cell_type": "code",
   "execution_count": 32,
   "metadata": {},
   "outputs": [],
   "source": [
    "# Lets drop Date column"
   ]
  },
  {
   "cell_type": "code",
   "execution_count": 33,
   "metadata": {},
   "outputs": [],
   "source": [
    "aus.drop(\"Date\",axis=1,inplace=True)"
   ]
  },
  {
   "cell_type": "code",
   "execution_count": 34,
   "metadata": {},
   "outputs": [],
   "source": [
    "# Location column"
   ]
  },
  {
   "cell_type": "code",
   "execution_count": 35,
   "metadata": {},
   "outputs": [
    {
     "data": {
      "text/plain": [
       "49"
      ]
     },
     "execution_count": 35,
     "metadata": {},
     "output_type": "execute_result"
    }
   ],
   "source": [
    "len(aus.Location.unique())"
   ]
  },
  {
   "cell_type": "code",
   "execution_count": 36,
   "metadata": {},
   "outputs": [
    {
     "data": {
      "text/plain": [
       "Canberra            3418\n",
       "Sydney              3337\n",
       "Perth               3193\n",
       "Darwin              3192\n",
       "Hobart              3188\n",
       "Brisbane            3161\n",
       "Adelaide            3090\n",
       "Bendigo             3034\n",
       "Townsville          3033\n",
       "AliceSprings        3031\n",
       "MountGambier        3030\n",
       "Ballarat            3028\n",
       "Launceston          3028\n",
       "Albany              3016\n",
       "Albury              3011\n",
       "MelbourneAirport    3009\n",
       "PerthAirport        3009\n",
       "Mildura             3007\n",
       "SydneyAirport       3005\n",
       "Nuriootpa           3002\n",
       "Sale                3000\n",
       "Watsonia            2999\n",
       "Tuggeranong         2998\n",
       "Portland            2996\n",
       "Woomera             2990\n",
       "Cobar               2988\n",
       "Cairns              2988\n",
       "Wollongong          2983\n",
       "GoldCoast           2980\n",
       "WaggaWagga          2976\n",
       "NorfolkIsland       2964\n",
       "Penrith             2964\n",
       "SalmonGums          2955\n",
       "Newcastle           2955\n",
       "CoffsHarbour        2953\n",
       "Witchcliffe         2952\n",
       "Richmond            2951\n",
       "Dartmoor            2943\n",
       "NorahHead           2929\n",
       "BadgerysCreek       2928\n",
       "MountGinini         2907\n",
       "Moree               2854\n",
       "Walpole             2819\n",
       "PearceRAAF          2762\n",
       "Williamtown         2553\n",
       "Melbourne           2435\n",
       "Nhil                1569\n",
       "Katherine           1559\n",
       "Uluru               1521\n",
       "Name: Location, dtype: int64"
      ]
     },
     "execution_count": 36,
     "metadata": {},
     "output_type": "execute_result"
    }
   ],
   "source": [
    "aus.Location.value_counts()"
   ]
  },
  {
   "cell_type": "code",
   "execution_count": 37,
   "metadata": {},
   "outputs": [],
   "source": [
    "# as we have many different labels under this categorical col we can perform Labelencoder technique"
   ]
  },
  {
   "cell_type": "code",
   "execution_count": 38,
   "metadata": {},
   "outputs": [],
   "source": [
    "le=LabelEncoder()\n",
    "loc=le.fit_transform(aus[\"Location\"])"
   ]
  },
  {
   "cell_type": "code",
   "execution_count": 39,
   "metadata": {},
   "outputs": [],
   "source": [
    "loc_df=pd.DataFrame(loc,columns=[\"location\"])"
   ]
  },
  {
   "cell_type": "code",
   "execution_count": 40,
   "metadata": {},
   "outputs": [
    {
     "data": {
      "text/html": [
       "<div>\n",
       "<style scoped>\n",
       "    .dataframe tbody tr th:only-of-type {\n",
       "        vertical-align: middle;\n",
       "    }\n",
       "\n",
       "    .dataframe tbody tr th {\n",
       "        vertical-align: top;\n",
       "    }\n",
       "\n",
       "    .dataframe thead th {\n",
       "        text-align: right;\n",
       "    }\n",
       "</style>\n",
       "<table border=\"1\" class=\"dataframe\">\n",
       "  <thead>\n",
       "    <tr style=\"text-align: right;\">\n",
       "      <th></th>\n",
       "      <th>act</th>\n",
       "      <th>pred</th>\n",
       "    </tr>\n",
       "  </thead>\n",
       "  <tbody>\n",
       "    <tr>\n",
       "      <td>0</td>\n",
       "      <td>Albury</td>\n",
       "      <td>2</td>\n",
       "    </tr>\n",
       "    <tr>\n",
       "      <td>1</td>\n",
       "      <td>BadgerysCreek</td>\n",
       "      <td>4</td>\n",
       "    </tr>\n",
       "    <tr>\n",
       "      <td>2</td>\n",
       "      <td>Cobar</td>\n",
       "      <td>10</td>\n",
       "    </tr>\n",
       "    <tr>\n",
       "      <td>3</td>\n",
       "      <td>CoffsHarbour</td>\n",
       "      <td>11</td>\n",
       "    </tr>\n",
       "    <tr>\n",
       "      <td>4</td>\n",
       "      <td>Moree</td>\n",
       "      <td>21</td>\n",
       "    </tr>\n",
       "    <tr>\n",
       "      <td>5</td>\n",
       "      <td>Newcastle</td>\n",
       "      <td>24</td>\n",
       "    </tr>\n",
       "    <tr>\n",
       "      <td>6</td>\n",
       "      <td>NorahHead</td>\n",
       "      <td>26</td>\n",
       "    </tr>\n",
       "    <tr>\n",
       "      <td>7</td>\n",
       "      <td>NorfolkIsland</td>\n",
       "      <td>27</td>\n",
       "    </tr>\n",
       "    <tr>\n",
       "      <td>8</td>\n",
       "      <td>Penrith</td>\n",
       "      <td>30</td>\n",
       "    </tr>\n",
       "    <tr>\n",
       "      <td>9</td>\n",
       "      <td>Richmond</td>\n",
       "      <td>34</td>\n",
       "    </tr>\n",
       "    <tr>\n",
       "      <td>10</td>\n",
       "      <td>Sydney</td>\n",
       "      <td>37</td>\n",
       "    </tr>\n",
       "    <tr>\n",
       "      <td>11</td>\n",
       "      <td>SydneyAirport</td>\n",
       "      <td>38</td>\n",
       "    </tr>\n",
       "    <tr>\n",
       "      <td>12</td>\n",
       "      <td>WaggaWagga</td>\n",
       "      <td>42</td>\n",
       "    </tr>\n",
       "    <tr>\n",
       "      <td>13</td>\n",
       "      <td>Williamtown</td>\n",
       "      <td>45</td>\n",
       "    </tr>\n",
       "    <tr>\n",
       "      <td>14</td>\n",
       "      <td>Wollongong</td>\n",
       "      <td>47</td>\n",
       "    </tr>\n",
       "    <tr>\n",
       "      <td>15</td>\n",
       "      <td>Canberra</td>\n",
       "      <td>9</td>\n",
       "    </tr>\n",
       "    <tr>\n",
       "      <td>16</td>\n",
       "      <td>Tuggeranong</td>\n",
       "      <td>40</td>\n",
       "    </tr>\n",
       "    <tr>\n",
       "      <td>17</td>\n",
       "      <td>MountGinini</td>\n",
       "      <td>23</td>\n",
       "    </tr>\n",
       "    <tr>\n",
       "      <td>18</td>\n",
       "      <td>Ballarat</td>\n",
       "      <td>5</td>\n",
       "    </tr>\n",
       "    <tr>\n",
       "      <td>19</td>\n",
       "      <td>Bendigo</td>\n",
       "      <td>6</td>\n",
       "    </tr>\n",
       "    <tr>\n",
       "      <td>20</td>\n",
       "      <td>Sale</td>\n",
       "      <td>35</td>\n",
       "    </tr>\n",
       "    <tr>\n",
       "      <td>21</td>\n",
       "      <td>MelbourneAirport</td>\n",
       "      <td>19</td>\n",
       "    </tr>\n",
       "    <tr>\n",
       "      <td>22</td>\n",
       "      <td>Melbourne</td>\n",
       "      <td>18</td>\n",
       "    </tr>\n",
       "    <tr>\n",
       "      <td>23</td>\n",
       "      <td>Mildura</td>\n",
       "      <td>20</td>\n",
       "    </tr>\n",
       "    <tr>\n",
       "      <td>24</td>\n",
       "      <td>Nhil</td>\n",
       "      <td>25</td>\n",
       "    </tr>\n",
       "    <tr>\n",
       "      <td>25</td>\n",
       "      <td>Portland</td>\n",
       "      <td>33</td>\n",
       "    </tr>\n",
       "    <tr>\n",
       "      <td>26</td>\n",
       "      <td>Watsonia</td>\n",
       "      <td>44</td>\n",
       "    </tr>\n",
       "    <tr>\n",
       "      <td>27</td>\n",
       "      <td>Dartmoor</td>\n",
       "      <td>12</td>\n",
       "    </tr>\n",
       "    <tr>\n",
       "      <td>28</td>\n",
       "      <td>Brisbane</td>\n",
       "      <td>7</td>\n",
       "    </tr>\n",
       "    <tr>\n",
       "      <td>29</td>\n",
       "      <td>Cairns</td>\n",
       "      <td>8</td>\n",
       "    </tr>\n",
       "    <tr>\n",
       "      <td>30</td>\n",
       "      <td>GoldCoast</td>\n",
       "      <td>14</td>\n",
       "    </tr>\n",
       "    <tr>\n",
       "      <td>31</td>\n",
       "      <td>Townsville</td>\n",
       "      <td>39</td>\n",
       "    </tr>\n",
       "    <tr>\n",
       "      <td>32</td>\n",
       "      <td>Adelaide</td>\n",
       "      <td>0</td>\n",
       "    </tr>\n",
       "    <tr>\n",
       "      <td>33</td>\n",
       "      <td>MountGambier</td>\n",
       "      <td>22</td>\n",
       "    </tr>\n",
       "    <tr>\n",
       "      <td>34</td>\n",
       "      <td>Nuriootpa</td>\n",
       "      <td>28</td>\n",
       "    </tr>\n",
       "    <tr>\n",
       "      <td>35</td>\n",
       "      <td>Woomera</td>\n",
       "      <td>48</td>\n",
       "    </tr>\n",
       "    <tr>\n",
       "      <td>36</td>\n",
       "      <td>Albany</td>\n",
       "      <td>1</td>\n",
       "    </tr>\n",
       "    <tr>\n",
       "      <td>37</td>\n",
       "      <td>Witchcliffe</td>\n",
       "      <td>46</td>\n",
       "    </tr>\n",
       "    <tr>\n",
       "      <td>38</td>\n",
       "      <td>PearceRAAF</td>\n",
       "      <td>29</td>\n",
       "    </tr>\n",
       "    <tr>\n",
       "      <td>39</td>\n",
       "      <td>PerthAirport</td>\n",
       "      <td>32</td>\n",
       "    </tr>\n",
       "    <tr>\n",
       "      <td>40</td>\n",
       "      <td>Perth</td>\n",
       "      <td>31</td>\n",
       "    </tr>\n",
       "    <tr>\n",
       "      <td>41</td>\n",
       "      <td>SalmonGums</td>\n",
       "      <td>36</td>\n",
       "    </tr>\n",
       "    <tr>\n",
       "      <td>42</td>\n",
       "      <td>Walpole</td>\n",
       "      <td>43</td>\n",
       "    </tr>\n",
       "    <tr>\n",
       "      <td>43</td>\n",
       "      <td>Hobart</td>\n",
       "      <td>15</td>\n",
       "    </tr>\n",
       "    <tr>\n",
       "      <td>44</td>\n",
       "      <td>Launceston</td>\n",
       "      <td>17</td>\n",
       "    </tr>\n",
       "    <tr>\n",
       "      <td>45</td>\n",
       "      <td>AliceSprings</td>\n",
       "      <td>3</td>\n",
       "    </tr>\n",
       "    <tr>\n",
       "      <td>46</td>\n",
       "      <td>Darwin</td>\n",
       "      <td>13</td>\n",
       "    </tr>\n",
       "    <tr>\n",
       "      <td>47</td>\n",
       "      <td>Katherine</td>\n",
       "      <td>16</td>\n",
       "    </tr>\n",
       "    <tr>\n",
       "      <td>48</td>\n",
       "      <td>Uluru</td>\n",
       "      <td>41</td>\n",
       "    </tr>\n",
       "  </tbody>\n",
       "</table>\n",
       "</div>"
      ],
      "text/plain": [
       "                 act  pred\n",
       "0             Albury     2\n",
       "1      BadgerysCreek     4\n",
       "2              Cobar    10\n",
       "3       CoffsHarbour    11\n",
       "4              Moree    21\n",
       "5          Newcastle    24\n",
       "6          NorahHead    26\n",
       "7      NorfolkIsland    27\n",
       "8            Penrith    30\n",
       "9           Richmond    34\n",
       "10            Sydney    37\n",
       "11     SydneyAirport    38\n",
       "12        WaggaWagga    42\n",
       "13       Williamtown    45\n",
       "14        Wollongong    47\n",
       "15          Canberra     9\n",
       "16       Tuggeranong    40\n",
       "17       MountGinini    23\n",
       "18          Ballarat     5\n",
       "19           Bendigo     6\n",
       "20              Sale    35\n",
       "21  MelbourneAirport    19\n",
       "22         Melbourne    18\n",
       "23           Mildura    20\n",
       "24              Nhil    25\n",
       "25          Portland    33\n",
       "26          Watsonia    44\n",
       "27          Dartmoor    12\n",
       "28          Brisbane     7\n",
       "29            Cairns     8\n",
       "30         GoldCoast    14\n",
       "31        Townsville    39\n",
       "32          Adelaide     0\n",
       "33      MountGambier    22\n",
       "34         Nuriootpa    28\n",
       "35           Woomera    48\n",
       "36            Albany     1\n",
       "37       Witchcliffe    46\n",
       "38        PearceRAAF    29\n",
       "39      PerthAirport    32\n",
       "40             Perth    31\n",
       "41        SalmonGums    36\n",
       "42           Walpole    43\n",
       "43            Hobart    15\n",
       "44        Launceston    17\n",
       "45      AliceSprings     3\n",
       "46            Darwin    13\n",
       "47         Katherine    16\n",
       "48             Uluru    41"
      ]
     },
     "execution_count": 40,
     "metadata": {},
     "output_type": "execute_result"
    }
   ],
   "source": [
    "pd.DataFrame({\"act\":aus.Location.unique(),\"pred\":loc_df.location.unique()})"
   ]
  },
  {
   "cell_type": "code",
   "execution_count": 41,
   "metadata": {},
   "outputs": [],
   "source": [
    "# now we can cancat loc_df with our main dataset"
   ]
  },
  {
   "cell_type": "code",
   "execution_count": 42,
   "metadata": {},
   "outputs": [],
   "source": [
    "aus=pd.concat([loc_df,aus],axis=1)"
   ]
  },
  {
   "cell_type": "code",
   "execution_count": 43,
   "metadata": {},
   "outputs": [],
   "source": [
    "# removing original Location col from dataset"
   ]
  },
  {
   "cell_type": "code",
   "execution_count": 44,
   "metadata": {},
   "outputs": [],
   "source": [
    "aus.drop(\"Location\",axis=1,inplace=True)"
   ]
  },
  {
   "cell_type": "code",
   "execution_count": 45,
   "metadata": {},
   "outputs": [],
   "source": [
    "# Min temp: no need to encode as it is numeric,lets look at the null values"
   ]
  },
  {
   "cell_type": "code",
   "execution_count": 46,
   "metadata": {},
   "outputs": [
    {
     "data": {
      "text/plain": [
       "637"
      ]
     },
     "execution_count": 46,
     "metadata": {},
     "output_type": "execute_result"
    }
   ],
   "source": [
    "aus.MinTemp.isna().sum()"
   ]
  },
  {
   "cell_type": "code",
   "execution_count": 47,
   "metadata": {},
   "outputs": [],
   "source": [
    "# lets fill all null values with mean of column itself"
   ]
  },
  {
   "cell_type": "code",
   "execution_count": 48,
   "metadata": {},
   "outputs": [],
   "source": [
    "aus[\"MinTemp\"].fillna(aus.MinTemp.mean(),inplace=True)"
   ]
  },
  {
   "cell_type": "code",
   "execution_count": 49,
   "metadata": {},
   "outputs": [
    {
     "data": {
      "text/plain": [
       "0"
      ]
     },
     "execution_count": 49,
     "metadata": {},
     "output_type": "execute_result"
    }
   ],
   "source": [
    "aus.MinTemp.isna().sum()"
   ]
  },
  {
   "cell_type": "code",
   "execution_count": 50,
   "metadata": {},
   "outputs": [],
   "source": [
    "# MaxTemp no need to encode as it is numeric,lets look at the null values"
   ]
  },
  {
   "cell_type": "code",
   "execution_count": 51,
   "metadata": {},
   "outputs": [
    {
     "data": {
      "text/plain": [
       "322"
      ]
     },
     "execution_count": 51,
     "metadata": {},
     "output_type": "execute_result"
    }
   ],
   "source": [
    "aus.MaxTemp.isna().sum()"
   ]
  },
  {
   "cell_type": "code",
   "execution_count": 52,
   "metadata": {},
   "outputs": [],
   "source": [
    "aus.MaxTemp.fillna(aus.MaxTemp.mean(),inplace=True)"
   ]
  },
  {
   "cell_type": "code",
   "execution_count": 53,
   "metadata": {},
   "outputs": [
    {
     "data": {
      "text/plain": [
       "0"
      ]
     },
     "execution_count": 53,
     "metadata": {},
     "output_type": "execute_result"
    }
   ],
   "source": [
    "aus.MaxTemp.isna().sum()"
   ]
  },
  {
   "cell_type": "code",
   "execution_count": 54,
   "metadata": {},
   "outputs": [],
   "source": [
    "# Rainfall: no need to encode as it is numeric,lets look at the null values"
   ]
  },
  {
   "cell_type": "code",
   "execution_count": 55,
   "metadata": {},
   "outputs": [
    {
     "data": {
      "text/plain": [
       "1406"
      ]
     },
     "execution_count": 55,
     "metadata": {},
     "output_type": "execute_result"
    }
   ],
   "source": [
    "aus.Rainfall.isna().sum()"
   ]
  },
  {
   "cell_type": "code",
   "execution_count": 56,
   "metadata": {},
   "outputs": [],
   "source": [
    "aus.Rainfall.fillna(aus.Rainfall.mean(),inplace=True)"
   ]
  },
  {
   "cell_type": "code",
   "execution_count": 57,
   "metadata": {},
   "outputs": [
    {
     "data": {
      "text/plain": [
       "0"
      ]
     },
     "execution_count": 57,
     "metadata": {},
     "output_type": "execute_result"
    }
   ],
   "source": [
    "aus.Rainfall.isna().sum()"
   ]
  },
  {
   "cell_type": "code",
   "execution_count": 58,
   "metadata": {},
   "outputs": [],
   "source": [
    "# Evaporation"
   ]
  },
  {
   "cell_type": "code",
   "execution_count": 59,
   "metadata": {},
   "outputs": [
    {
     "data": {
      "text/plain": [
       "60843"
      ]
     },
     "execution_count": 59,
     "metadata": {},
     "output_type": "execute_result"
    }
   ],
   "source": [
    "aus.Evaporation.isna().sum()"
   ]
  },
  {
   "cell_type": "code",
   "execution_count": 60,
   "metadata": {},
   "outputs": [],
   "source": [
    "aus.Evaporation.fillna(aus.Evaporation.mean(),inplace=True)"
   ]
  },
  {
   "cell_type": "code",
   "execution_count": 61,
   "metadata": {},
   "outputs": [
    {
     "data": {
      "text/plain": [
       "0"
      ]
     },
     "execution_count": 61,
     "metadata": {},
     "output_type": "execute_result"
    }
   ],
   "source": [
    "aus.Evaporation.isna().sum()"
   ]
  },
  {
   "cell_type": "code",
   "execution_count": 62,
   "metadata": {},
   "outputs": [],
   "source": [
    "# sunshine"
   ]
  },
  {
   "cell_type": "code",
   "execution_count": 63,
   "metadata": {},
   "outputs": [
    {
     "data": {
      "text/plain": [
       "67816"
      ]
     },
     "execution_count": 63,
     "metadata": {},
     "output_type": "execute_result"
    }
   ],
   "source": [
    "aus.Sunshine.isna().sum()"
   ]
  },
  {
   "cell_type": "code",
   "execution_count": 64,
   "metadata": {},
   "outputs": [],
   "source": [
    "aus.Sunshine.fillna(aus.Sunshine.mean(),inplace=True)"
   ]
  },
  {
   "cell_type": "code",
   "execution_count": 65,
   "metadata": {},
   "outputs": [
    {
     "data": {
      "text/plain": [
       "0"
      ]
     },
     "execution_count": 65,
     "metadata": {},
     "output_type": "execute_result"
    }
   ],
   "source": [
    "aus.Sunshine.isna().sum()"
   ]
  },
  {
   "cell_type": "code",
   "execution_count": 66,
   "metadata": {},
   "outputs": [],
   "source": [
    "# WindGustDir: as this is a categorical varibale we need to encode it by using Label encoder"
   ]
  },
  {
   "cell_type": "code",
   "execution_count": 67,
   "metadata": {},
   "outputs": [
    {
     "data": {
      "text/plain": [
       "array(['W', 'WNW', 'WSW', 'NE', 'NNW', 'N', 'NNE', 'SW', 'ENE', 'SSE',\n",
       "       'S', 'NW', 'SE', 'ESE', nan, 'E', 'SSW'], dtype=object)"
      ]
     },
     "execution_count": 67,
     "metadata": {},
     "output_type": "execute_result"
    }
   ],
   "source": [
    "aus.WindGustDir.unique()"
   ]
  },
  {
   "cell_type": "code",
   "execution_count": 68,
   "metadata": {},
   "outputs": [],
   "source": [
    "aus.WindGustDir.replace(np.nan,\"Unknown\",inplace=True)"
   ]
  },
  {
   "cell_type": "code",
   "execution_count": 69,
   "metadata": {},
   "outputs": [
    {
     "data": {
      "text/plain": [
       "array(['W', 'WNW', 'WSW', 'NE', 'NNW', 'N', 'NNE', 'SW', 'ENE', 'SSE',\n",
       "       'S', 'NW', 'SE', 'ESE', 'Unknown', 'E', 'SSW'], dtype=object)"
      ]
     },
     "execution_count": 69,
     "metadata": {},
     "output_type": "execute_result"
    }
   ],
   "source": [
    "aus.WindGustDir.unique()"
   ]
  },
  {
   "cell_type": "code",
   "execution_count": 70,
   "metadata": {},
   "outputs": [],
   "source": [
    "le=LabelEncoder()\n",
    "aus[\"windgustdir\"]=le.fit_transform(aus[\"WindGustDir\"])"
   ]
  },
  {
   "cell_type": "code",
   "execution_count": 71,
   "metadata": {},
   "outputs": [
    {
     "data": {
      "text/plain": [
       "windgustdir  WindGustDir\n",
       "0            E              9071\n",
       "1            ENE            7992\n",
       "2            ESE            7305\n",
       "3            N              9033\n",
       "4            NE             7060\n",
       "5            NNE            6433\n",
       "6            NNW            6561\n",
       "7            NW             8003\n",
       "8            S              8949\n",
       "9            SE             9309\n",
       "10           SSE            8993\n",
       "11           SSW            8610\n",
       "12           SW             8797\n",
       "13           Unknown        9330\n",
       "14           W              9780\n",
       "15           WNW            8066\n",
       "16           WSW            8901\n",
       "dtype: int64"
      ]
     },
     "execution_count": 71,
     "metadata": {},
     "output_type": "execute_result"
    }
   ],
   "source": [
    "aus.groupby([\"windgustdir\",\"WindGustDir\"]).size()"
   ]
  },
  {
   "cell_type": "code",
   "execution_count": 72,
   "metadata": {},
   "outputs": [],
   "source": [
    "aus.drop(\"WindGustDir\",axis=1,inplace=True)"
   ]
  },
  {
   "cell_type": "code",
   "execution_count": 73,
   "metadata": {},
   "outputs": [],
   "source": [
    "# WindGustSpeed"
   ]
  },
  {
   "cell_type": "code",
   "execution_count": 74,
   "metadata": {},
   "outputs": [
    {
     "data": {
      "text/plain": [
       "9270"
      ]
     },
     "execution_count": 74,
     "metadata": {},
     "output_type": "execute_result"
    }
   ],
   "source": [
    "aus.WindGustSpeed.isna().sum()"
   ]
  },
  {
   "cell_type": "code",
   "execution_count": 75,
   "metadata": {},
   "outputs": [],
   "source": [
    "aus.WindGustSpeed.fillna(aus.WindGustSpeed.mean(),inplace=True)"
   ]
  },
  {
   "cell_type": "code",
   "execution_count": 76,
   "metadata": {},
   "outputs": [
    {
     "data": {
      "text/plain": [
       "0"
      ]
     },
     "execution_count": 76,
     "metadata": {},
     "output_type": "execute_result"
    }
   ],
   "source": [
    "aus.WindGustSpeed.isna().sum()"
   ]
  },
  {
   "cell_type": "code",
   "execution_count": 77,
   "metadata": {},
   "outputs": [],
   "source": [
    "# WindDir9am"
   ]
  },
  {
   "cell_type": "code",
   "execution_count": 78,
   "metadata": {},
   "outputs": [
    {
     "data": {
      "text/plain": [
       "array(['W', 'NNW', 'SE', 'ENE', 'SW', 'SSE', 'S', 'NE', nan, 'SSW', 'N',\n",
       "       'WSW', 'ESE', 'E', 'NW', 'WNW', 'NNE'], dtype=object)"
      ]
     },
     "execution_count": 78,
     "metadata": {},
     "output_type": "execute_result"
    }
   ],
   "source": [
    "aus.WindDir9am.unique()"
   ]
  },
  {
   "cell_type": "code",
   "execution_count": 79,
   "metadata": {},
   "outputs": [],
   "source": [
    "aus.WindDir9am.replace(np.nan,\"Unknown\",inplace=True)"
   ]
  },
  {
   "cell_type": "code",
   "execution_count": 80,
   "metadata": {},
   "outputs": [],
   "source": [
    "le=LabelEncoder()\n",
    "aus[\"winddir9am\"]=le.fit_transform(aus[\"WindDir9am\"])"
   ]
  },
  {
   "cell_type": "code",
   "execution_count": 81,
   "metadata": {},
   "outputs": [],
   "source": [
    "aus.drop(\"WindDir9am\",axis=1,inplace=True)"
   ]
  },
  {
   "cell_type": "code",
   "execution_count": 82,
   "metadata": {},
   "outputs": [],
   "source": [
    "# WindDir3pm"
   ]
  },
  {
   "cell_type": "code",
   "execution_count": 83,
   "metadata": {},
   "outputs": [
    {
     "data": {
      "text/plain": [
       "array(['WNW', 'WSW', 'E', 'NW', 'W', 'SSE', 'ESE', 'ENE', 'NNW', 'SSW',\n",
       "       'SW', 'SE', 'N', 'S', 'NNE', nan, 'NE'], dtype=object)"
      ]
     },
     "execution_count": 83,
     "metadata": {},
     "output_type": "execute_result"
    }
   ],
   "source": [
    "aus.WindDir3pm.unique()"
   ]
  },
  {
   "cell_type": "code",
   "execution_count": 84,
   "metadata": {},
   "outputs": [],
   "source": [
    "aus.WindDir3pm.replace(np.nan,\"Unknown\",inplace=True)"
   ]
  },
  {
   "cell_type": "code",
   "execution_count": 85,
   "metadata": {},
   "outputs": [],
   "source": [
    "le=LabelEncoder()\n",
    "aus[\"winddir3pm\"]=le.fit_transform(aus[\"WindDir3pm\"])"
   ]
  },
  {
   "cell_type": "code",
   "execution_count": 86,
   "metadata": {},
   "outputs": [],
   "source": [
    "aus.drop(\"WindDir3pm\",axis=1,inplace=True)"
   ]
  },
  {
   "cell_type": "code",
   "execution_count": 87,
   "metadata": {},
   "outputs": [],
   "source": [
    "# WindSpeed9am"
   ]
  },
  {
   "cell_type": "code",
   "execution_count": 88,
   "metadata": {},
   "outputs": [
    {
     "data": {
      "text/plain": [
       "1348"
      ]
     },
     "execution_count": 88,
     "metadata": {},
     "output_type": "execute_result"
    }
   ],
   "source": [
    "aus.WindSpeed9am.isna().sum()"
   ]
  },
  {
   "cell_type": "code",
   "execution_count": 89,
   "metadata": {},
   "outputs": [],
   "source": [
    "aus.WindSpeed9am.fillna(aus.WindSpeed9am.mean(),inplace=True)"
   ]
  },
  {
   "cell_type": "code",
   "execution_count": 90,
   "metadata": {},
   "outputs": [
    {
     "data": {
      "text/plain": [
       "0"
      ]
     },
     "execution_count": 90,
     "metadata": {},
     "output_type": "execute_result"
    }
   ],
   "source": [
    "aus.WindSpeed9am.isna().sum()"
   ]
  },
  {
   "cell_type": "code",
   "execution_count": 91,
   "metadata": {},
   "outputs": [],
   "source": [
    "# WindSpeed3pm"
   ]
  },
  {
   "cell_type": "code",
   "execution_count": 92,
   "metadata": {},
   "outputs": [
    {
     "data": {
      "text/plain": [
       "2630"
      ]
     },
     "execution_count": 92,
     "metadata": {},
     "output_type": "execute_result"
    }
   ],
   "source": [
    "aus.WindSpeed3pm.isna().sum()"
   ]
  },
  {
   "cell_type": "code",
   "execution_count": 93,
   "metadata": {},
   "outputs": [],
   "source": [
    "aus.WindSpeed3pm.fillna(aus.WindSpeed3pm.mean(),inplace=True)"
   ]
  },
  {
   "cell_type": "code",
   "execution_count": 94,
   "metadata": {},
   "outputs": [
    {
     "data": {
      "text/plain": [
       "0"
      ]
     },
     "execution_count": 94,
     "metadata": {},
     "output_type": "execute_result"
    }
   ],
   "source": [
    "aus.WindSpeed3pm.isna().sum()"
   ]
  },
  {
   "cell_type": "code",
   "execution_count": 95,
   "metadata": {},
   "outputs": [],
   "source": [
    "# Now we have got a better idea of varibles like whereever we are having numerical col we are imputing mean. There is a library\n",
    "# in sklearn called simpleImputer which does this job for us. It can calculate basic stats value and automatically replaces null \n",
    "# values present in our dataset."
   ]
  },
  {
   "cell_type": "code",
   "execution_count": 96,
   "metadata": {},
   "outputs": [],
   "source": [
    "# Humidity9am"
   ]
  },
  {
   "cell_type": "code",
   "execution_count": 97,
   "metadata": {},
   "outputs": [
    {
     "data": {
      "text/plain": [
       "1774"
      ]
     },
     "execution_count": 97,
     "metadata": {},
     "output_type": "execute_result"
    }
   ],
   "source": [
    "aus.Humidity9am.isna().sum()"
   ]
  },
  {
   "cell_type": "code",
   "execution_count": 98,
   "metadata": {},
   "outputs": [],
   "source": [
    "aus.Humidity9am.fillna(aus.Humidity9am.mean(),inplace=True)"
   ]
  },
  {
   "cell_type": "code",
   "execution_count": 99,
   "metadata": {},
   "outputs": [
    {
     "data": {
      "text/plain": [
       "0"
      ]
     },
     "execution_count": 99,
     "metadata": {},
     "output_type": "execute_result"
    }
   ],
   "source": [
    "aus.Humidity9am.isna().sum()"
   ]
  },
  {
   "cell_type": "code",
   "execution_count": 100,
   "metadata": {},
   "outputs": [],
   "source": [
    "# Humidity3pm"
   ]
  },
  {
   "cell_type": "code",
   "execution_count": 101,
   "metadata": {},
   "outputs": [
    {
     "data": {
      "text/plain": [
       "3610"
      ]
     },
     "execution_count": 101,
     "metadata": {},
     "output_type": "execute_result"
    }
   ],
   "source": [
    "aus.Humidity3pm.isna().sum()"
   ]
  },
  {
   "cell_type": "code",
   "execution_count": 102,
   "metadata": {},
   "outputs": [],
   "source": [
    "aus.Humidity3pm.fillna(aus.Humidity3pm.mean(),inplace=True)"
   ]
  },
  {
   "cell_type": "code",
   "execution_count": 103,
   "metadata": {},
   "outputs": [
    {
     "data": {
      "text/plain": [
       "0"
      ]
     },
     "execution_count": 103,
     "metadata": {},
     "output_type": "execute_result"
    }
   ],
   "source": [
    "aus.Humidity3pm.isna().sum()"
   ]
  },
  {
   "cell_type": "code",
   "execution_count": 104,
   "metadata": {},
   "outputs": [],
   "source": [
    "# Pressure9am"
   ]
  },
  {
   "cell_type": "code",
   "execution_count": 105,
   "metadata": {},
   "outputs": [
    {
     "data": {
      "text/plain": [
       "14014"
      ]
     },
     "execution_count": 105,
     "metadata": {},
     "output_type": "execute_result"
    }
   ],
   "source": [
    "aus.Pressure9am.isna().sum()"
   ]
  },
  {
   "cell_type": "code",
   "execution_count": 106,
   "metadata": {},
   "outputs": [],
   "source": [
    "aus.Pressure9am.fillna(aus.Pressure9am.mean(),inplace=True)"
   ]
  },
  {
   "cell_type": "code",
   "execution_count": 107,
   "metadata": {},
   "outputs": [
    {
     "data": {
      "text/plain": [
       "0"
      ]
     },
     "execution_count": 107,
     "metadata": {},
     "output_type": "execute_result"
    }
   ],
   "source": [
    "aus.Pressure9am.isna().sum()"
   ]
  },
  {
   "cell_type": "code",
   "execution_count": 108,
   "metadata": {},
   "outputs": [],
   "source": [
    "# Pressure3pm "
   ]
  },
  {
   "cell_type": "code",
   "execution_count": 109,
   "metadata": {},
   "outputs": [
    {
     "data": {
      "text/plain": [
       "13981"
      ]
     },
     "execution_count": 109,
     "metadata": {},
     "output_type": "execute_result"
    }
   ],
   "source": [
    "aus.Pressure3pm.isna().sum()"
   ]
  },
  {
   "cell_type": "code",
   "execution_count": 110,
   "metadata": {},
   "outputs": [],
   "source": [
    "aus.Pressure3pm.fillna(aus.Pressure3pm.mean(),inplace=True)"
   ]
  },
  {
   "cell_type": "code",
   "execution_count": 111,
   "metadata": {},
   "outputs": [
    {
     "data": {
      "text/plain": [
       "0"
      ]
     },
     "execution_count": 111,
     "metadata": {},
     "output_type": "execute_result"
    }
   ],
   "source": [
    "aus.Pressure3pm.isna().sum()"
   ]
  },
  {
   "cell_type": "code",
   "execution_count": 112,
   "metadata": {},
   "outputs": [],
   "source": [
    "# Cloud9am"
   ]
  },
  {
   "cell_type": "code",
   "execution_count": 113,
   "metadata": {},
   "outputs": [
    {
     "data": {
      "text/plain": [
       "53657"
      ]
     },
     "execution_count": 113,
     "metadata": {},
     "output_type": "execute_result"
    }
   ],
   "source": [
    "aus.Cloud9am.isna().sum()"
   ]
  },
  {
   "cell_type": "code",
   "execution_count": 114,
   "metadata": {},
   "outputs": [],
   "source": [
    "aus.Cloud9am.fillna(aus.Cloud9am.mean(),inplace=True)"
   ]
  },
  {
   "cell_type": "code",
   "execution_count": 115,
   "metadata": {},
   "outputs": [
    {
     "data": {
      "text/plain": [
       "0"
      ]
     },
     "execution_count": 115,
     "metadata": {},
     "output_type": "execute_result"
    }
   ],
   "source": [
    "aus.Cloud9am.isna().sum()"
   ]
  },
  {
   "cell_type": "code",
   "execution_count": 116,
   "metadata": {},
   "outputs": [],
   "source": [
    "# Cloud3pm"
   ]
  },
  {
   "cell_type": "code",
   "execution_count": 117,
   "metadata": {},
   "outputs": [
    {
     "data": {
      "text/plain": [
       "57094"
      ]
     },
     "execution_count": 117,
     "metadata": {},
     "output_type": "execute_result"
    }
   ],
   "source": [
    "aus.Cloud3pm.isna().sum()"
   ]
  },
  {
   "cell_type": "code",
   "execution_count": 118,
   "metadata": {},
   "outputs": [],
   "source": [
    "aus.Cloud3pm.fillna(aus.Cloud3pm.mean(),inplace=True)"
   ]
  },
  {
   "cell_type": "code",
   "execution_count": 119,
   "metadata": {},
   "outputs": [
    {
     "data": {
      "text/plain": [
       "0"
      ]
     },
     "execution_count": 119,
     "metadata": {},
     "output_type": "execute_result"
    }
   ],
   "source": [
    "aus.Cloud3pm.isna().sum()"
   ]
  },
  {
   "cell_type": "code",
   "execution_count": 120,
   "metadata": {},
   "outputs": [],
   "source": [
    "# Temp9am"
   ]
  },
  {
   "cell_type": "code",
   "execution_count": 121,
   "metadata": {},
   "outputs": [
    {
     "data": {
      "text/plain": [
       "904"
      ]
     },
     "execution_count": 121,
     "metadata": {},
     "output_type": "execute_result"
    }
   ],
   "source": [
    "aus.Temp9am.isna().sum()"
   ]
  },
  {
   "cell_type": "code",
   "execution_count": 122,
   "metadata": {},
   "outputs": [],
   "source": [
    "aus.Temp9am.fillna(aus.Temp9am.mean(),inplace=True)"
   ]
  },
  {
   "cell_type": "code",
   "execution_count": 123,
   "metadata": {},
   "outputs": [
    {
     "data": {
      "text/plain": [
       "0"
      ]
     },
     "execution_count": 123,
     "metadata": {},
     "output_type": "execute_result"
    }
   ],
   "source": [
    "aus.Temp9am.isna().sum()"
   ]
  },
  {
   "cell_type": "code",
   "execution_count": 124,
   "metadata": {},
   "outputs": [],
   "source": [
    "# Temp3pm"
   ]
  },
  {
   "cell_type": "code",
   "execution_count": 125,
   "metadata": {},
   "outputs": [
    {
     "data": {
      "text/plain": [
       "2726"
      ]
     },
     "execution_count": 125,
     "metadata": {},
     "output_type": "execute_result"
    }
   ],
   "source": [
    "aus.Temp3pm.isna().sum()"
   ]
  },
  {
   "cell_type": "code",
   "execution_count": 126,
   "metadata": {},
   "outputs": [],
   "source": [
    "aus.Temp3pm.fillna(aus.Temp3pm.mean(),inplace=True)"
   ]
  },
  {
   "cell_type": "code",
   "execution_count": 127,
   "metadata": {},
   "outputs": [
    {
     "data": {
      "text/plain": [
       "0"
      ]
     },
     "execution_count": 127,
     "metadata": {},
     "output_type": "execute_result"
    }
   ],
   "source": [
    "aus.Temp3pm.isna().sum()"
   ]
  },
  {
   "cell_type": "code",
   "execution_count": 128,
   "metadata": {},
   "outputs": [],
   "source": [
    "# RainToday"
   ]
  },
  {
   "cell_type": "code",
   "execution_count": 129,
   "metadata": {},
   "outputs": [
    {
     "data": {
      "text/plain": [
       "array(['No', 'Yes', nan], dtype=object)"
      ]
     },
     "execution_count": 129,
     "metadata": {},
     "output_type": "execute_result"
    }
   ],
   "source": [
    "aus.RainToday.unique()"
   ]
  },
  {
   "cell_type": "code",
   "execution_count": 130,
   "metadata": {},
   "outputs": [],
   "source": [
    "aus[\"RainToday\"].fillna(\"unknown\",inplace=True)"
   ]
  },
  {
   "cell_type": "code",
   "execution_count": 131,
   "metadata": {},
   "outputs": [],
   "source": [
    "le=LabelEncoder()\n",
    "aus[\"raintoday\"]=le.fit_transform(aus[\"RainToday\"])"
   ]
  },
  {
   "cell_type": "code",
   "execution_count": 132,
   "metadata": {},
   "outputs": [],
   "source": [
    "aus.drop(\"RainToday\",axis=1,inplace=True)"
   ]
  },
  {
   "cell_type": "code",
   "execution_count": 133,
   "metadata": {},
   "outputs": [
    {
     "data": {
      "text/plain": [
       "Index(['location', 'MinTemp', 'MaxTemp', 'Rainfall', 'Evaporation', 'Sunshine',\n",
       "       'WindGustSpeed', 'WindSpeed9am', 'WindSpeed3pm', 'Humidity9am',\n",
       "       'Humidity3pm', 'Pressure9am', 'Pressure3pm', 'Cloud9am', 'Cloud3pm',\n",
       "       'Temp9am', 'Temp3pm', 'RainTomorrow', 'date_day', 'date_month',\n",
       "       'date_year', 'windgustdir', 'winddir9am', 'winddir3pm', 'raintoday'],\n",
       "      dtype='object')"
      ]
     },
     "execution_count": 133,
     "metadata": {},
     "output_type": "execute_result"
    }
   ],
   "source": [
    "aus.columns"
   ]
  },
  {
   "cell_type": "code",
   "execution_count": 134,
   "metadata": {},
   "outputs": [
    {
     "data": {
      "text/plain": [
       "location           int32\n",
       "MinTemp          float64\n",
       "MaxTemp          float64\n",
       "Rainfall         float64\n",
       "Evaporation      float64\n",
       "Sunshine         float64\n",
       "WindGustSpeed    float64\n",
       "WindSpeed9am     float64\n",
       "WindSpeed3pm     float64\n",
       "Humidity9am      float64\n",
       "Humidity3pm      float64\n",
       "Pressure9am      float64\n",
       "Pressure3pm      float64\n",
       "Cloud9am         float64\n",
       "Cloud3pm         float64\n",
       "Temp9am          float64\n",
       "Temp3pm          float64\n",
       "RainTomorrow      object\n",
       "date_day           int64\n",
       "date_month         int64\n",
       "date_year          int64\n",
       "windgustdir        int32\n",
       "winddir9am         int32\n",
       "winddir3pm         int32\n",
       "raintoday          int32\n",
       "dtype: object"
      ]
     },
     "execution_count": 134,
     "metadata": {},
     "output_type": "execute_result"
    }
   ],
   "source": [
    "aus.dtypes"
   ]
  },
  {
   "cell_type": "code",
   "execution_count": 135,
   "metadata": {},
   "outputs": [],
   "source": [
    "# Data visualization"
   ]
  },
  {
   "cell_type": "code",
   "execution_count": 136,
   "metadata": {},
   "outputs": [
    {
     "data": {
      "image/png": "[encoded data removed]",
      "text/plain": [
       "<Figure size 720x720 with 25 Axes>"
      ]
     },
     "metadata": {
      "needs_background": "light"
     },
     "output_type": "display_data"
    }
   ],
   "source": [
    "aus.hist(figsize=(10,10),color=\"red\")\n",
    "plt.show()"
   ]
  },
  {
   "cell_type": "code",
   "execution_count": 137,
   "metadata": {},
   "outputs": [],
   "source": [
    "# using countplot"
   ]
  },
  {
   "cell_type": "code",
   "execution_count": 138,
   "metadata": {},
   "outputs": [
    {
     "data": {
      "text/plain": [
       "<matplotlib.axes._subplots.AxesSubplot at 0x14b1150edd8>"
      ]
     },
     "execution_count": 138,
     "metadata": {},
     "output_type": "execute_result"
    },
    {
     "data": {
      "image/png": "[encoded data removed]",
      "text/plain": [
       "<Figure size 432x288 with 1 Axes>"
      ]
     },
     "metadata": {
      "needs_background": "light"
     },
     "output_type": "display_data"
    }
   ],
   "source": [
    "sns.countplot(x=\"location\",hue=\"RainTomorrow\",data=aus)"
   ]
  },
  {
   "cell_type": "code",
   "execution_count": 139,
   "metadata": {},
   "outputs": [],
   "source": [
    "# using scatterplot"
   ]
  },
  {
   "cell_type": "code",
   "execution_count": 140,
   "metadata": {},
   "outputs": [
    {
     "data": {
      "text/plain": [
       "<matplotlib.axes._subplots.AxesSubplot at 0x14b10ebb160>"
      ]
     },
     "execution_count": 140,
     "metadata": {},
     "output_type": "execute_result"
    },
    {
     "data": {
      "image/png": "[encoded data removed]",
      "text/plain": [
       "<Figure size 432x288 with 1 Axes>"
      ]
     },
     "metadata": {
      "needs_background": "light"
     },
     "output_type": "display_data"
    }
   ],
   "source": [
    "sns.scatterplot(x=\"MinTemp\",y=\"RainTomorrow\",data=aus)"
   ]
  },
  {
   "cell_type": "code",
   "execution_count": 141,
   "metadata": {},
   "outputs": [],
   "source": [
    "# scattermatrix"
   ]
  },
  {
   "cell_type": "code",
   "execution_count": 142,
   "metadata": {},
   "outputs": [
    {
     "data": {
      "text/plain": [
       "<matplotlib.axes._subplots.AxesSubplot at 0x14b114f3240>"
      ]
     },
     "execution_count": 142,
     "metadata": {},
     "output_type": "execute_result"
    },
    {
     "data": {
      "image/png": "[encoded data removed]",
      "text/plain": [
       "<Figure size 432x288 with 1 Axes>"
      ]
     },
     "metadata": {
      "needs_background": "light"
     },
     "output_type": "display_data"
    }
   ],
   "source": [
    "aus.plot(kind=\"scatter\",x=\"MaxTemp\",y=\"Rainfall\",alpha=0.9)"
   ]
  },
  {
   "cell_type": "code",
   "execution_count": 143,
   "metadata": {},
   "outputs": [],
   "source": [
    "# Barplot"
   ]
  },
  {
   "cell_type": "code",
   "execution_count": 144,
   "metadata": {},
   "outputs": [
    {
     "data": {
      "text/plain": [
       "<matplotlib.axes._subplots.AxesSubplot at 0x14b11025240>"
      ]
     },
     "execution_count": 144,
     "metadata": {},
     "output_type": "execute_result"
    },
    {
     "data": {
      "image/png": "[encoded data removed]",
      "text/plain": [
       "<Figure size 432x288 with 1 Axes>"
      ]
     },
     "metadata": {
      "needs_background": "light"
     },
     "output_type": "display_data"
    }
   ],
   "source": [
    "sns.barplot(y=\"Evaporation\",x=\"RainTomorrow\",data=aus)"
   ]
  },
  {
   "cell_type": "code",
   "execution_count": 145,
   "metadata": {},
   "outputs": [],
   "source": [
    "# Boxplot"
   ]
  },
  {
   "cell_type": "code",
   "execution_count": 146,
   "metadata": {},
   "outputs": [
    {
     "data": {
      "text/plain": [
       "<matplotlib.axes._subplots.AxesSubplot at 0x14b114bf048>"
      ]
     },
     "execution_count": 146,
     "metadata": {},
     "output_type": "execute_result"
    },
    {
     "data": {
      "image/png": "[encoded data removed]",
      "text/plain": [
       "<Figure size 432x288 with 1 Axes>"
      ]
     },
     "metadata": {
      "needs_background": "light"
     },
     "output_type": "display_data"
    }
   ],
   "source": [
    "sns.boxplot(y=\"Sunshine\",x=\"RainTomorrow\",data=aus)"
   ]
  },
  {
   "cell_type": "code",
   "execution_count": 147,
   "metadata": {},
   "outputs": [],
   "source": [
    "# Heat map"
   ]
  },
  {
   "cell_type": "code",
   "execution_count": 148,
   "metadata": {},
   "outputs": [
    {
     "data": {
      "text/plain": [
       "<matplotlib.axes._subplots.AxesSubplot at 0x14b0f3f2be0>"
      ]
     },
     "execution_count": 148,
     "metadata": {},
     "output_type": "execute_result"
    },
    {
     "data": {
      "image/png": "[encoded data removed]",
      "text/plain": [
       "<Figure size 1080x1080 with 2 Axes>"
      ]
     },
     "metadata": {
      "needs_background": "light"
     },
     "output_type": "display_data"
    }
   ],
   "source": [
    "fig=plt.figure(figsize=(15,15))\n",
    "aus_corr=aus.corr()\n",
    "sns.heatmap(aus_corr,annot=True,cmap=\"icefire\")"
   ]
  },
  {
   "cell_type": "code",
   "execution_count": 149,
   "metadata": {},
   "outputs": [],
   "source": [
    "# detect outlier"
   ]
  },
  {
   "cell_type": "code",
   "execution_count": 150,
   "metadata": {},
   "outputs": [],
   "source": [
    "outliers=[]\n",
    "def detect_outliers(data):\n",
    "    \n",
    "    threshhold=3\n",
    "    mean=np.mean(data)\n",
    "    std=np.std(data)\n",
    "    for i in data:\n",
    "        \n",
    "        z_score=(i-mean)/std\n",
    "        if np.abs(z_score)>threshhold:\n",
    "            outliers.append(i)\n",
    "            return outliers"
   ]
  },
  {
   "cell_type": "code",
   "execution_count": 151,
   "metadata": {},
   "outputs": [
    {
     "data": {
      "text/plain": [
       "[16.4]"
      ]
     },
     "execution_count": 151,
     "metadata": {},
     "output_type": "execute_result"
    }
   ],
   "source": [
    "detect_outliers(aus[\"Evaporation\"])"
   ]
  },
  {
   "cell_type": "code",
   "execution_count": 152,
   "metadata": {},
   "outputs": [],
   "source": [
    "# Lets encode target variable"
   ]
  },
  {
   "cell_type": "code",
   "execution_count": 153,
   "metadata": {},
   "outputs": [],
   "source": [
    "le=LabelEncoder()\n",
    "aus[\"target\"]=le.fit_transform(aus[\"RainTomorrow\"])"
   ]
  },
  {
   "cell_type": "code",
   "execution_count": 154,
   "metadata": {},
   "outputs": [],
   "source": [
    "aus.drop(\"RainTomorrow\",axis=1,inplace=True)"
   ]
  },
  {
   "cell_type": "code",
   "execution_count": 155,
   "metadata": {},
   "outputs": [],
   "source": [
    "# Lets divide dataset into dependent and independent variable"
   ]
  },
  {
   "cell_type": "code",
   "execution_count": 156,
   "metadata": {},
   "outputs": [],
   "source": [
    "y=aus[\"target\"]\n",
    "x=aus.drop(\"target\",axis=1)"
   ]
  },
  {
   "cell_type": "code",
   "execution_count": 157,
   "metadata": {},
   "outputs": [],
   "source": [
    "# Lets divide our dataset into training and test "
   ]
  },
  {
   "cell_type": "code",
   "execution_count": 158,
   "metadata": {},
   "outputs": [],
   "source": [
    "x_train,x_test,y_train,y_test=train_test_split(x,y,test_size=0.3,random_state=42)"
   ]
  },
  {
   "cell_type": "code",
   "execution_count": 159,
   "metadata": {},
   "outputs": [],
   "source": [
    "# Checking the shape of splitted set"
   ]
  },
  {
   "cell_type": "code",
   "execution_count": 160,
   "metadata": {},
   "outputs": [
    {
     "name": "stdout",
     "output_type": "stream",
     "text": [
      "shape of x_train is: (99535, 24)\n",
      "shape of y_train is: (99535,)\n",
      "shape of x_test is: (42658, 24)\n",
      "shape of y_test is: (42658,)\n"
     ]
    }
   ],
   "source": [
    "print(\"shape of x_train is:\",x_train.shape)\n",
    "print(\"shape of y_train is:\",y_train.shape)\n",
    "print(\"shape of x_test is:\",x_test.shape)\n",
    "print(\"shape of y_test is:\",y_test.shape)"
   ]
  },
  {
   "cell_type": "code",
   "execution_count": 161,
   "metadata": {},
   "outputs": [],
   "source": [
    "# applying ML algo"
   ]
  },
  {
   "cell_type": "code",
   "execution_count": 162,
   "metadata": {},
   "outputs": [
    {
     "name": "stderr",
     "output_type": "stream",
     "text": [
      "c:\\users\\acer\\appdata\\local\\programs\\python\\python36\\lib\\site-packages\\sklearn\\linear_model\\logistic.py:432: FutureWarning: Default solver will be changed to 'lbfgs' in 0.22. Specify a solver to silence this warning.\n",
      "  FutureWarning)\n"
     ]
    }
   ],
   "source": [
    "lr=LogisticRegression()\n",
    "lr.fit(x_train,y_train)\n",
    "prediction=lr.predict(x_test)"
   ]
  },
  {
   "cell_type": "code",
   "execution_count": 163,
   "metadata": {},
   "outputs": [
    {
     "name": "stdout",
     "output_type": "stream",
     "text": [
      "        Actual  Predicted\n",
      "56320        1          1\n",
      "124136       0          0\n",
      "117063       0          0\n",
      "6974         0          0\n",
      "61546        1          1\n",
      "...        ...        ...\n",
      "11175        1          0\n",
      "71105        0          0\n",
      "131694       0          0\n",
      "74179        1          1\n",
      "119144       0          0\n",
      "\n",
      "[42658 rows x 2 columns]\n"
     ]
    }
   ],
   "source": [
    "output=pd.DataFrame({\"Actual\":y_test,\"Predicted\":prediction})\n",
    "print(output)"
   ]
  },
  {
   "cell_type": "code",
   "execution_count": 164,
   "metadata": {},
   "outputs": [],
   "source": [
    "# Evaluating the model result"
   ]
  },
  {
   "cell_type": "code",
   "execution_count": 165,
   "metadata": {},
   "outputs": [
    {
     "name": "stdout",
     "output_type": "stream",
     "text": [
      "accuracy score is: 0.8413896572741338\n",
      " Kappa is : 0.48666090562943287\n",
      " Sensitiviy is : 0.4915485564304462\n",
      " Precision is : 0.7088569265707797\n",
      "R2 is: 0.08545150686333525\n",
      "Area under curve is : 0.7167548715813536\n",
      "array([[31210,  1923],\n",
      "       [ 4843,  4682]], dtype=int64)\n",
      "('              precision    recall  f1-score   support\\n'\n",
      " '\\n'\n",
      " '           0       0.87      0.94      0.90     33133\\n'\n",
      " '           1       0.71      0.49      0.58      9525\\n'\n",
      " '\\n'\n",
      " '    accuracy                           0.84     42658\\n'\n",
      " '   macro avg       0.79      0.72      0.74     42658\\n'\n",
      " 'weighted avg       0.83      0.84      0.83     42658\\n')\n"
     ]
    }
   ],
   "source": [
    "print(\"accuracy score is:\",accuracy_score(y_test,prediction))\n",
    "print(\" Kappa is :\",cohen_kappa_score(y_test, prediction))\n",
    "print(\" Sensitiviy is :\",recall_score(y_test, prediction))\n",
    "print(\" Precision is :\",precision_score(y_test,prediction))\n",
    "print(\"R2 is:\",r2_score(y_test,prediction))\n",
    "fpr, tpr, thresholds = roc_curve(y_test, prediction)\n",
    "print(\"Area under curve is :\",auc(fpr,tpr))\n",
    "pprint(confusion_matrix(y_test, prediction))\n",
    "pprint(classification_report(y_test,prediction))"
   ]
  },
  {
   "cell_type": "code",
   "execution_count": 166,
   "metadata": {},
   "outputs": [],
   "source": [
    "# decision tree"
   ]
  },
  {
   "cell_type": "code",
   "execution_count": 167,
   "metadata": {},
   "outputs": [],
   "source": [
    "dt=DecisionTreeClassifier(criterion=\"entropy\")\n",
    "dt.fit(x_train,y_train)\n",
    "prediction=dt.predict(x_test)"
   ]
  },
  {
   "cell_type": "code",
   "execution_count": 168,
   "metadata": {},
   "outputs": [
    {
     "name": "stdout",
     "output_type": "stream",
     "text": [
      "        Actual  Predicted\n",
      "56320        1          1\n",
      "124136       0          0\n",
      "117063       0          0\n",
      "6974         0          1\n",
      "61546        1          0\n",
      "...        ...        ...\n",
      "11175        1          1\n",
      "71105        0          0\n",
      "131694       0          0\n",
      "74179        1          1\n",
      "119144       0          0\n",
      "\n",
      "[42658 rows x 2 columns]\n"
     ]
    }
   ],
   "source": [
    "output=pd.DataFrame({\"Actual\":y_test,\"Predicted\":prediction})\n",
    "print(output)"
   ]
  },
  {
   "cell_type": "code",
   "execution_count": 169,
   "metadata": {},
   "outputs": [
    {
     "name": "stdout",
     "output_type": "stream",
     "text": [
      "accuracy score is: 0.7897697969900136\n",
      " Kappa is : 0.39898587608354064\n",
      " Sensitiviy is : 0.5411023622047244\n",
      " Precision is : 0.5285611732130038\n",
      "R2 is: -0.21218901661980638\n",
      "Area under curve is : 0.7011792558314842\n",
      "array([[28536,  4597],\n",
      "       [ 4371,  5154]], dtype=int64)\n",
      "('              precision    recall  f1-score   support\\n'\n",
      " '\\n'\n",
      " '           0       0.87      0.86      0.86     33133\\n'\n",
      " '           1       0.53      0.54      0.53      9525\\n'\n",
      " '\\n'\n",
      " '    accuracy                           0.79     42658\\n'\n",
      " '   macro avg       0.70      0.70      0.70     42658\\n'\n",
      " 'weighted avg       0.79      0.79      0.79     42658\\n')\n"
     ]
    }
   ],
   "source": [
    "print(\"accuracy score is:\",accuracy_score(y_test,prediction))\n",
    "print(\" Kappa is :\",cohen_kappa_score(y_test, prediction))\n",
    "print(\" Sensitiviy is :\",recall_score(y_test, prediction))\n",
    "print(\" Precision is :\",precision_score(y_test,prediction))\n",
    "print(\"R2 is:\",r2_score(y_test,prediction))\n",
    "fpr, tpr, thresholds = roc_curve(y_test, prediction)\n",
    "print(\"Area under curve is :\",auc(fpr,tpr))\n",
    "pprint(confusion_matrix(y_test, prediction))\n",
    "pprint(classification_report(y_test,prediction))"
   ]
  },
  {
   "cell_type": "code",
   "execution_count": 170,
   "metadata": {},
   "outputs": [],
   "source": [
    "# random forest"
   ]
  },
  {
   "cell_type": "code",
   "execution_count": 171,
   "metadata": {},
   "outputs": [
    {
     "name": "stderr",
     "output_type": "stream",
     "text": [
      "c:\\users\\acer\\appdata\\local\\programs\\python\\python36\\lib\\site-packages\\sklearn\\ensemble\\forest.py:245: FutureWarning: The default value of n_estimators will change from 10 in version 0.20 to 100 in 0.22.\n",
      "  \"10 in version 0.20 to 100 in 0.22.\", FutureWarning)\n"
     ]
    }
   ],
   "source": [
    "rf=RandomForestClassifier()\n",
    "rf.fit(x_train,y_train)\n",
    "prediction=rf.predict(x_test)"
   ]
  },
  {
   "cell_type": "code",
   "execution_count": 172,
   "metadata": {},
   "outputs": [
    {
     "name": "stdout",
     "output_type": "stream",
     "text": [
      "        Actual  Predicted\n",
      "56320        1          1\n",
      "124136       0          0\n",
      "117063       0          0\n",
      "6974         0          0\n",
      "61546        1          1\n",
      "...        ...        ...\n",
      "11175        1          0\n",
      "71105        0          0\n",
      "131694       0          0\n",
      "74179        1          1\n",
      "119144       0          0\n",
      "\n",
      "[42658 rows x 2 columns]\n"
     ]
    }
   ],
   "source": [
    "output=pd.DataFrame({\"Actual\":y_test,\"Predicted\":prediction})\n",
    "print(output)"
   ]
  },
  {
   "cell_type": "code",
   "execution_count": 173,
   "metadata": {},
   "outputs": [
    {
     "name": "stdout",
     "output_type": "stream",
     "text": [
      "accuracy score is: 0.8445778048666135\n",
      " Kappa is : 0.4853534924660683\n",
      " Sensitiviy is : 0.47044619422572176\n",
      " Precision is : 0.7385857919894512\n",
      "R2 is: 0.10383439114748927\n",
      "Area under curve is : 0.7112892547200802\n",
      "array([[31547,  1586],\n",
      "       [ 5044,  4481]], dtype=int64)\n",
      "('              precision    recall  f1-score   support\\n'\n",
      " '\\n'\n",
      " '           0       0.86      0.95      0.90     33133\\n'\n",
      " '           1       0.74      0.47      0.57      9525\\n'\n",
      " '\\n'\n",
      " '    accuracy                           0.84     42658\\n'\n",
      " '   macro avg       0.80      0.71      0.74     42658\\n'\n",
      " 'weighted avg       0.83      0.84      0.83     42658\\n')\n"
     ]
    }
   ],
   "source": [
    "print(\"accuracy score is:\",accuracy_score(y_test,prediction))\n",
    "print(\" Kappa is :\",cohen_kappa_score(y_test, prediction))\n",
    "print(\" Sensitiviy is :\",recall_score(y_test, prediction))\n",
    "print(\" Precision is :\",precision_score(y_test,prediction))\n",
    "print(\"R2 is:\",r2_score(y_test,prediction))\n",
    "fpr, tpr, thresholds = roc_curve(y_test, prediction)\n",
    "print(\"Area under curve is :\",auc(fpr,tpr))\n",
    "pprint(confusion_matrix(y_test, prediction))\n",
    "pprint(classification_report(y_test,prediction))"
   ]
  },
  {
   "cell_type": "code",
   "execution_count": 174,
   "metadata": {},
   "outputs": [],
   "source": [
    "# KNN"
   ]
  },
  {
   "cell_type": "code",
   "execution_count": 175,
   "metadata": {},
   "outputs": [],
   "source": [
    "knn=KNeighborsClassifier()\n",
    "knn.fit(x_train,y_train)\n",
    "prediction=knn.predict(x_test)"
   ]
  },
  {
   "cell_type": "code",
   "execution_count": 176,
   "metadata": {},
   "outputs": [
    {
     "name": "stdout",
     "output_type": "stream",
     "text": [
      "        Actual  Predicted\n",
      "56320        1          1\n",
      "124136       0          0\n",
      "117063       0          0\n",
      "6974         0          0\n",
      "61546        1          1\n",
      "...        ...        ...\n",
      "11175        1          0\n",
      "71105        0          0\n",
      "131694       0          0\n",
      "74179        1          1\n",
      "119144       0          0\n",
      "\n",
      "[42658 rows x 2 columns]\n"
     ]
    }
   ],
   "source": [
    "output=pd.DataFrame({\"Actual\":y_test,\"Predicted\":prediction})\n",
    "print(output)"
   ]
  },
  {
   "cell_type": "code",
   "execution_count": 177,
   "metadata": {},
   "outputs": [
    {
     "name": "stdout",
     "output_type": "stream",
     "text": [
      "accuracy score is: 0.8397252566927658\n",
      " Kappa is : 0.48791809741717174\n",
      " Sensitiviy is : 0.5040419947506561\n",
      " Precision is : 0.6943881978594156\n",
      "R2 is: 0.07585455992087242\n",
      "Area under curve is : 0.7201343586767496\n",
      "array([[31020,  2113],\n",
      "       [ 4724,  4801]], dtype=int64)\n",
      "('              precision    recall  f1-score   support\\n'\n",
      " '\\n'\n",
      " '           0       0.87      0.94      0.90     33133\\n'\n",
      " '           1       0.69      0.50      0.58      9525\\n'\n",
      " '\\n'\n",
      " '    accuracy                           0.84     42658\\n'\n",
      " '   macro avg       0.78      0.72      0.74     42658\\n'\n",
      " 'weighted avg       0.83      0.84      0.83     42658\\n')\n"
     ]
    }
   ],
   "source": [
    "print(\"accuracy score is:\",accuracy_score(y_test,prediction))\n",
    "print(\" Kappa is :\",cohen_kappa_score(y_test, prediction))\n",
    "print(\" Sensitiviy is :\",recall_score(y_test, prediction))\n",
    "print(\" Precision is :\",precision_score(y_test,prediction))\n",
    "print(\"R2 is:\",r2_score(y_test,prediction))\n",
    "fpr, tpr, thresholds = roc_curve(y_test, prediction)\n",
    "print(\"Area under curve is :\",auc(fpr,tpr))\n",
    "pprint(confusion_matrix(y_test, prediction))\n",
    "pprint(classification_report(y_test,prediction))"
   ]
  },
  {
   "cell_type": "code",
   "execution_count": 178,
   "metadata": {},
   "outputs": [],
   "source": [
    "# naive Bayes"
   ]
  },
  {
   "cell_type": "code",
   "execution_count": 179,
   "metadata": {},
   "outputs": [],
   "source": [
    "nb=GaussianNB()\n",
    "nb.fit(x_train,y_train)\n",
    "prediction=nb.predict(x_test)"
   ]
  },
  {
   "cell_type": "code",
   "execution_count": 180,
   "metadata": {},
   "outputs": [
    {
     "name": "stdout",
     "output_type": "stream",
     "text": [
      "        Actual  Predicted\n",
      "56320        1          1\n",
      "124136       0          0\n",
      "117063       0          0\n",
      "6974         0          0\n",
      "61546        1          1\n",
      "...        ...        ...\n",
      "11175        1          1\n",
      "71105        0          0\n",
      "131694       0          0\n",
      "74179        1          0\n",
      "119144       0          0\n",
      "\n",
      "[42658 rows x 2 columns]\n"
     ]
    }
   ],
   "source": [
    "output=pd.DataFrame({\"Actual\":y_test,\"Predicted\":prediction})\n",
    "print(output)"
   ]
  },
  {
   "cell_type": "code",
   "execution_count": 181,
   "metadata": {},
   "outputs": [
    {
     "name": "stdout",
     "output_type": "stream",
     "text": [
      "accuracy score is: 0.8037648272305312\n",
      " Kappa is : 0.44995068781588143\n",
      " Sensitiviy is : 0.6006299212598425\n",
      " Precision is : 0.5560847589424572\n",
      "R2 is: -0.1314935613430419\n",
      "Area under curve is : 0.7313957562113658\n",
      "array([[28566,  4567],\n",
      "       [ 3804,  5721]], dtype=int64)\n",
      "('              precision    recall  f1-score   support\\n'\n",
      " '\\n'\n",
      " '           0       0.88      0.86      0.87     33133\\n'\n",
      " '           1       0.56      0.60      0.58      9525\\n'\n",
      " '\\n'\n",
      " '    accuracy                           0.80     42658\\n'\n",
      " '   macro avg       0.72      0.73      0.72     42658\\n'\n",
      " 'weighted avg       0.81      0.80      0.81     42658\\n')\n"
     ]
    }
   ],
   "source": [
    "print(\"accuracy score is:\",accuracy_score(y_test,prediction))\n",
    "print(\" Kappa is :\",cohen_kappa_score(y_test, prediction))\n",
    "print(\" Sensitiviy is :\",recall_score(y_test, prediction))\n",
    "print(\" Precision is :\",precision_score(y_test,prediction))\n",
    "print(\"R2 is:\",r2_score(y_test,prediction))\n",
    "fpr, tpr, thresholds = roc_curve(y_test, prediction)\n",
    "print(\"Area under curve is :\",auc(fpr,tpr))\n",
    "pprint(confusion_matrix(y_test, prediction))\n",
    "pprint(classification_report(y_test,prediction))"
   ]
  },
  {
   "cell_type": "code",
   "execution_count": null,
   "metadata": {},
   "outputs": [],
   "source": []
  },
  {
   "cell_type": "code",
   "execution_count": null,
   "metadata": {},
   "outputs": [],
   "source": [
    "'''\n",
    "Here we can say that by applying Random forest we get the best accuracy,so for final model we will be selecting this model.\n",
    "Happy learning....\n",
    "\n",
    "'''"
   ]
  },
  {
   "cell_type": "code",
   "execution_count": null,
   "metadata": {},
   "outputs": [],
   "source": []
  },
  {
   "cell_type": "code",
   "execution_count": null,
   "metadata": {},
   "outputs": [],
   "source": []
  },
  {
   "cell_type": "code",
   "execution_count": null,
   "metadata": {},
   "outputs": [],
   "source": []
  },
  {
   "cell_type": "code",
   "execution_count": null,
   "metadata": {},
   "outputs": [],
   "source": []
  },
  {
   "cell_type": "code",
   "execution_count": null,
   "metadata": {},
   "outputs": [],
   "source": []
  },
  {
   "cell_type": "code",
   "execution_count": null,
   "metadata": {},
   "outputs": [],
   "source": []
  },
  {
   "cell_type": "code",
   "execution_count": null,
   "metadata": {},
   "outputs": [],
   "source": []
  },
  {
   "cell_type": "code",
   "execution_count": null,
   "metadata": {},
   "outputs": [],
   "source": []
  },
  {
   "cell_type": "code",
   "execution_count": null,
   "metadata": {},
   "outputs": [],
   "source": []
  },
  {
   "cell_type": "code",
   "execution_count": null,
   "metadata": {},
   "outputs": [],
   "source": []
  },
  {
   "cell_type": "code",
   "execution_count": null,
   "metadata": {},
   "outputs": [],
   "source": []
  },
  {
   "cell_type": "code",
   "execution_count": null,
   "metadata": {},
   "outputs": [],
   "source": []
  },
  {
   "cell_type": "code",
   "execution_count": null,
   "metadata": {},
   "outputs": [],
   "source": []
  },
  {
   "cell_type": "code",
   "execution_count": null,
   "metadata": {},
   "outputs": [],
   "source": []
  },
  {
   "cell_type": "code",
   "execution_count": null,
   "metadata": {},
   "outputs": [],
   "source": []
  },
  {
   "cell_type": "code",
   "execution_count": null,
   "metadata": {},
   "outputs": [],
   "source": []
  },
  {
   "cell_type": "code",
   "execution_count": null,
   "metadata": {},
   "outputs": [],
   "source": []
  },
  {
   "cell_type": "code",
   "execution_count": null,
   "metadata": {},
   "outputs": [],
   "source": []
  },
  {
   "cell_type": "code",
   "execution_count": null,
   "metadata": {},
   "outputs": [],
   "source": []
  },
  {
   "cell_type": "code",
   "execution_count": null,
   "metadata": {},
   "outputs": [],
   "source": []
  },
  {
   "cell_type": "code",
   "execution_count": null,
   "metadata": {},
   "outputs": [],
   "source": []
  },
  {
   "cell_type": "code",
   "execution_count": null,
   "metadata": {},
   "outputs": [],
   "source": []
  }
 ],
 "metadata": {
  "kernelspec": {
   "display_name": "Python 3",
   "language": "python",
   "name": "python3"
  },
  "language_info": {
   "codemirror_mode": {
    "name": "ipython",
    "version": 3
   },
   "file_extension": ".py",
   "mimetype": "text/x-python",
   "name": "python",
   "nbconvert_exporter": "python",
   "pygments_lexer": "ipython3",
   "version": "3.6.5"
  }
 },
 "nbformat": 4,
 "nbformat_minor": 2
}
